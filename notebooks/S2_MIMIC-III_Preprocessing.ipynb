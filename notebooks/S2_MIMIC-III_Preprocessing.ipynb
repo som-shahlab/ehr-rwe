{
 "cells": [
  {
   "cell_type": "markdown",
   "metadata": {
    "deletable": true,
    "editable": true
   },
   "source": [
    "# Pull a sample of notes from MIMIC-III \n",
    "\n",
    "`NOTEEVENTS_DATA_TABLE.csv`"
   ]
  },
  {
   "cell_type": "code",
   "execution_count": 1,
   "metadata": {
    "collapsed": false,
    "deletable": true,
    "editable": true
   },
   "outputs": [],
   "source": [
    "import re\n",
    "import csv\n",
    "import glob\n",
    "import cPickle\n",
    "import itertools\n",
    "import numpy as np"
   ]
  },
  {
   "cell_type": "markdown",
   "metadata": {
    "deletable": true,
    "editable": true
   },
   "source": [
    "## Map ShARe/CLEF corpus notes to MIMIC-III "
   ]
  },
  {
   "cell_type": "code",
   "execution_count": 2,
   "metadata": {
    "collapsed": true
   },
   "outputs": [],
   "source": [
    "def get_clef_key(note):\n",
    "    \"\"\"\n",
    "    Create ShARe/CLEF key\n",
    "    \"\"\"\n",
    "    return note[1] + \"_\" + note[3] \n",
    "    \n",
    "def get_mimic_key(note):\n",
    "    \"\"\"\n",
    "    Create MIMIC-III key that maps to ShARe/CLEF note keys\n",
    "    \"\"\"\n",
    "    description = note['DESCRIPTION'] if note['CATEGORY'] != \"Radiology\" else \"REPORT\"\n",
    "    return \"{}_{}_{}\".format(note['SUBJECT_ID'], note['CATEGORY'], description).upper()"
   ]
  },
  {
   "cell_type": "code",
   "execution_count": 3,
   "metadata": {
    "collapsed": false,
    "deletable": true,
    "editable": true
   },
   "outputs": [
    {
     "name": "stdout",
     "output_type": "stream",
     "text": [
      "299\n"
     ]
    }
   ],
   "source": [
    "root_dir = \"../data/corpora/clef/2014ShAReCLEFeHealthTasks2/training/\"\n",
    "filelist = glob.glob(\"{}/*.txt\".format(root_dir))\n",
    "clef_corpus = []\n",
    "\n",
    "for fpath in filelist:\n",
    "    doc = open(fpath,\"rU\").read()\n",
    "    header = doc.splitlines()[0]\n",
    "    doc = doc.lstrip(header)\n",
    "    header = map(lambda x:x.split(), header.split(\"||||\"))\n",
    "    header = list(itertools.chain.from_iterable(header))\n",
    "    clef_corpus.append([get_clef_key(header), doc])\n",
    "\n",
    "clef_corpus = dict(clef_corpus)\n",
    "print len(clef_corpus)"
   ]
  },
  {
   "cell_type": "markdown",
   "metadata": {
    "deletable": true,
    "editable": true
   },
   "source": [
    "## Sample MIMIC-III documents\n",
    "Here we use [reservoir sampling](https://en.wikipedia.org/wiki/Reservoir_sampling) to built an unlabeled dataset of 50,000 MIMIC-III critical care notes. "
   ]
  },
  {
   "cell_type": "code",
   "execution_count": 4,
   "metadata": {
    "collapsed": false,
    "deletable": true,
    "editable": true
   },
   "outputs": [
    {
     "name": "stdout",
     "output_type": "stream",
     "text": [
      "50000\n"
     ]
    }
   ],
   "source": [
    "csv_reader = csv.reader(open(\"/users/fries/NOTEEVENTS_DATA_TABLE.csv\",\"rU\"))\n",
    "\n",
    "ignore_docs = cPickle.load(open(\"clef2mimic.pkl\",\"rb\"))\n",
    "\n",
    "n_samples = 50000\n",
    "mimic_corpus = []\n",
    "np.random.seed(1234)\n",
    "\n",
    "for i,row in enumerate(csv_reader):\n",
    "    if i == 0:\n",
    "        header = row\n",
    "        continue\n",
    "    \n",
    "    row = dict(zip(header,row))\n",
    "    \n",
    "    # skip documents that are identical to our ShARe/CLEF dev/test set\n",
    "    key = get_mimic_key(row)\n",
    "    if key in ignore_docs:\n",
    "        continue\n",
    "        \n",
    "    # reservoir sampling\n",
    "    if len(mimic_corpus) < n_samples:\n",
    "        mimic_corpus.append(row)\n",
    "    else:\n",
    "        j = np.random.randint(0, i+1)\n",
    "        if j < n_samples:\n",
    "            mimic_corpus[j] = row\n",
    "            \n",
    "print len(mimic_corpus)"
   ]
  },
  {
   "cell_type": "markdown",
   "metadata": {},
   "source": [
    "## Remove Duplicate / Near identical MIMIC Notes\n",
    "ShARe/CLEF notes are built from MIMIC-II, so there is some overlap with MIMIC-III data. Here we remove note to make certain our dev/test sets contain unseen data."
   ]
  },
  {
   "cell_type": "code",
   "execution_count": 5,
   "metadata": {
    "collapsed": false
   },
   "outputs": [
    {
     "name": "stdout",
     "output_type": "stream",
     "text": [
      "50299\n"
     ]
    }
   ],
   "source": [
    "# build our document strings\n",
    "doc_ids, corpus = [],[]\n",
    "for note in mimic_corpus:\n",
    "    doc_ids.append(get_mimic_key(note))\n",
    "    corpus.append(note[\"TEXT\"])\n",
    "    \n",
    "for key in clef_corpus:\n",
    "    doc_ids.append(key)\n",
    "    corpus.append(clef_corpus[key])    \n",
    "\n",
    "print len(corpus)"
   ]
  },
  {
   "cell_type": "markdown",
   "metadata": {},
   "source": [
    "### Create Bag of Words Representation"
   ]
  },
  {
   "cell_type": "code",
   "execution_count": 6,
   "metadata": {
    "collapsed": false
   },
   "outputs": [],
   "source": [
    "from sklearn.preprocessing import normalize\n",
    "from sklearn.feature_extraction.text import CountVectorizer\n",
    "\n",
    "def tokenize(s):\n",
    "    tokens = s.split()\n",
    "    # remove MIMIC anonymization terms of the form [**LastName**]\n",
    "    return [t for t in tokens if not re.search(\"\\[\\*\\*(.+)\\*\\*\\]|\\[\\*\\*(.+)|(.+)\\*\\*\\]\", t)]\n",
    "\n",
    "vectorizer = CountVectorizer(tokenizer=tokenize)\n",
    "X = vectorizer.fit_transform(corpus)\n",
    "\n",
    "X_norm = normalize(X, norm='l2', axis=1)"
   ]
  },
  {
   "cell_type": "code",
   "execution_count": 7,
   "metadata": {
    "collapsed": false,
    "deletable": true,
    "editable": true
   },
   "outputs": [],
   "source": [
    "# clef and mimic ids\n",
    "query_ids = np.array(doc_ids[-299:])\n",
    "search_ids = np.array(doc_ids[:-299])\n",
    "\n",
    "# cosine similarity\n",
    "q = X_norm[-299:]\n",
    "d = X_norm[:-299]\n",
    "w = q.dot(d.T)"
   ]
  },
  {
   "cell_type": "markdown",
   "metadata": {},
   "source": [
    "### Remove MIMIC-III notes"
   ]
  },
  {
   "cell_type": "code",
   "execution_count": 8,
   "metadata": {
    "collapsed": false
   },
   "outputs": [
    {
     "name": "stdout",
     "output_type": "stream",
     "text": [
      "Found 0 near-duplicates\n"
     ]
    }
   ],
   "source": [
    "rm = []\n",
    "for i, query_doc_id in enumerate(query_ids):\n",
    "    w_hat = np.ravel(w[i].todense())\n",
    "    idxs = int(np.argsort(-w_hat)[:1])\n",
    "    score = w_hat[idxs]\n",
    "    if score > 0.97:\n",
    "        rm.append((search_ids[idxs], query_doc_id, score))\n",
    "\n",
    "print \"Found {} near-duplicates\".format(len(rm))"
   ]
  },
  {
   "cell_type": "code",
   "execution_count": 9,
   "metadata": {
    "collapsed": false
   },
   "outputs": [
    {
     "name": "stdout",
     "output_type": "stream",
     "text": [
      "231\n"
     ]
    }
   ],
   "source": [
    "for x in rm:\n",
    "    ignore_docs[x[0]] = 1\n",
    "    print x\n",
    "print len(ignore_docs)"
   ]
  },
  {
   "cell_type": "code",
   "execution_count": 10,
   "metadata": {
    "collapsed": false
   },
   "outputs": [],
   "source": [
    "cPickle.dump(ignore_docs, open(\"clef2mimic.pkl\",\"w\"))"
   ]
  },
  {
   "cell_type": "markdown",
   "metadata": {},
   "source": [
    "### Export MIMIC Training Sample"
   ]
  },
  {
   "cell_type": "code",
   "execution_count": 14,
   "metadata": {
    "collapsed": false
   },
   "outputs": [],
   "source": [
    "import os\n",
    "outdir = \"../data/corpora/mimic-iii/training/\"\n",
    "if not os.path.exists(outdir):\n",
    "    os.mkdir(outdir)\n",
    "\n",
    "for id,doc in zip(doc_ids[:-299], corpus[:-299]):\n",
    "    fpath = \"{}/{}.txt\".format(outdir, id.replace(\"/\",\"_\"))\n",
    "    with open(fpath,\"w\") as fp:\n",
    "        fp.write(doc)"
   ]
  }
 ],
 "metadata": {
  "kernelspec": {
   "display_name": "bav",
   "language": "python",
   "name": "bav"
  },
  "language_info": {
   "codemirror_mode": {
    "name": "ipython",
    "version": 2
   },
   "file_extension": ".py",
   "mimetype": "text/x-python",
   "name": "python",
   "nbconvert_exporter": "python",
   "pygments_lexer": "ipython2",
   "version": "2.7.14"
  }
 },
 "nbformat": 4,
 "nbformat_minor": 2
}
