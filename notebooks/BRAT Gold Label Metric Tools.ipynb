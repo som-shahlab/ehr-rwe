{
 "cells": [
  {
   "cell_type": "markdown",
   "metadata": {},
   "source": [
    "# BRAT Gold Label Adjudication"
   ]
  },
  {
   "cell_type": "code",
   "execution_count": 2,
   "metadata": {},
   "outputs": [
    {
     "name": "stdout",
     "output_type": "stream",
     "text": [
      "The autoreload extension is already loaded. To reload it, use:\n",
      "  %reload_ext autoreload\n"
     ]
    }
   ],
   "source": [
    "%load_ext autoreload\n",
    "%autoreload 2\n",
    "%matplotlib inline\n",
    "\n",
    "import sys\n",
    "sys.path.insert(0,'../../ehr-rwe/')\n",
    "\n",
    "from rwe.contrib.brat import *"
   ]
  },
  {
   "cell_type": "code",
   "execution_count": 51,
   "metadata": {},
   "outputs": [
    {
     "name": "stdout",
     "output_type": "stream",
     "text": [
      "jason\n",
      "alison\n"
     ]
    }
   ],
   "source": [
    "from shutil import copyfile\n",
    "\n",
    "infile = \"/users/fries/desktop/annotations.txt\"\n",
    "anns = open(infile,'r').read().splitlines()\n",
    "anns = {name.replace(\".ann\",\"\") for name in anns}\n",
    "\n",
    "for annotator in ['jason', 'alison']:\n",
    "    print(annotator)\n",
    "    root_fpath = '/Users/fries/Desktop/npj-dev-surveillance-MIMIC-III/v2/'\n",
    "    filelist = glob.glob(f'{root_fpath}{annotator}/*')\n",
    "    outdir = f'/Users/fries/Desktop/npj-subset/v2/{annotator}/'\n",
    "    for fpath in filelist:\n",
    "        fname_ext = fpath.split(\"/\")[-1]\n",
    "        fname = fname_ext.split(\".\")[0]\n",
    "        if fname in anns:\n",
    "            copyfile(fpath, f'{outdir}{fname_ext}')\n",
    "\n"
   ]
  },
  {
   "cell_type": "code",
   "execution_count": 53,
   "metadata": {},
   "outputs": [
    {
     "name": "stdout",
     "output_type": "stream",
     "text": [
      "==================================================\n",
      "ANNOTATOR SUMMARY\n",
      "==================================================\n",
      "-------------------------\n",
      "jason\n",
      "-------------------------\n",
      "ENTITY              962\n",
      " - Concept          962\n",
      "                         \n",
      "RELATION            182\n",
      " - X-at             182\n",
      "                         \n",
      "-------------------------\n",
      "alison\n",
      "-------------------------\n",
      "ENTITY              961\n",
      " - Concept          961\n",
      "                         \n",
      "RELATION            179\n",
      " - X-at             179\n",
      "                         \n",
      "Kappa Agreement (method=randolph)\n",
      "OVERALL        (n=539): 0.952\n",
      "X-at           (n=184): 0.924\n"
     ]
    }
   ],
   "source": [
    "#inputdir = \"/Users/fries/Desktop/npj-dev-surveillance-MIMIC-III/\"\n",
    "inputdir = \"/Users/fries/Desktop/npj-subset/v2/\"\n",
    "\n",
    "gold = BratAnnotations(inputdir)\n",
    "gold.annotator_summary()\n",
    "gold.annotator_agreement(ignore_types=['Concept'], relations_only=True)"
   ]
  },
  {
   "cell_type": "code",
   "execution_count": 54,
   "metadata": {
    "scrolled": false
   },
   "outputs": [
    {
     "name": "stdout",
     "output_type": "stream",
     "text": [
      "19430_7400_190280\n",
      "X-at( Concept(\"pain\":433-437), Concept(\"right chest\":405-416) )\n",
      "X-at( Concept(\"right chest\":405-416), Concept(\"pain\":433-437) )\n",
      "--------------------------------------------------\n",
      "25018_7921_177363\n",
      "X-at( Concept(\"dislocated\":5121-5131), Concept(\"hemiarthroplasty\":5175-5191) )\n",
      "--------------------------------------------------\n",
      "2604_68251_150426\n",
      "X-at( Concept(\"Removal\":499-506), Concept(\"hardware\":510-518) )\n",
      "--------------------------------------------------\n",
      "25035_51203_193364\n",
      "X-at( Concept(\"hardware\":17867-17875), Concept(\"removal\":17876-17883) )\n",
      "X-at( Concept(\"removal\":10208-10215), Concept(\"LLE harware\":10196-10207) )\n",
      "X-at( Concept(\"LLE harware\":10196-10207), Concept(\"removal\":10208-10215) )\n",
      "--------------------------------------------------\n"
     ]
    }
   ],
   "source": [
    "import collections\n",
    "\n",
    "M = gold.aggregate_raters(ignore_types=['Concept'], relations_only=True)\n",
    "\n",
    "adjudicate = collections.defaultdict(list)\n",
    "\n",
    "for anno in M:\n",
    "    if M[anno][0] == 1 and anno.type != 'Concept':\n",
    "        #print(anno.doc_name, anno, M[anno])\n",
    "        adjudicate[anno.doc_name].append(anno)\n",
    "\n",
    "for doc_name in adjudicate:\n",
    "    print(doc_name)\n",
    "    for anno in adjudicate[doc_name]:\n",
    "        print(anno)\n",
    "    print('-' * 50)"
   ]
  },
  {
   "cell_type": "code",
   "execution_count": 102,
   "metadata": {},
   "outputs": [
    {
     "name": "stdout",
     "output_type": "stream",
     "text": [
      "48 annotated documents\n",
      "- 48 2x annotated\n",
      "Class 0:  120\n",
      "Class 1:  127\n",
      "---------------\n",
      "TOTAL:    247\n"
     ]
    }
   ],
   "source": [
    "# class_map = lambda c: 1 if c[\"Finding\"].attribute(\"PresentPositive\") else 0\n",
    "# gold.init_labels(class_map, ['Complication'], verbose=True)"
   ]
  },
  {
   "cell_type": "code",
   "execution_count": 63,
   "metadata": {},
   "outputs": [
    {
     "name": "stdout",
     "output_type": "stream",
     "text": [
      "184\n",
      "147\n"
     ]
    }
   ],
   "source": [
    "M = gold.aggregate_raters(ignore_types=['Concept'], relations_only=True)\n",
    "\n",
    "pain_terms = {\n",
    "    'pain','tenderness','discomfort','tender', 'painful'\n",
    "}\n",
    "\n",
    "n = 0\n",
    "relations = [x for x in M if x.type == 'X-at']\n",
    "print(len(relations))\n",
    "for x in relations:\n",
    "    if pain_terms.intersection([a.text for a in x.args]):\n",
    "        n += 1\n",
    "print(n)"
   ]
  },
  {
   "cell_type": "code",
   "execution_count": 13,
   "metadata": {},
   "outputs": [],
   "source": []
  },
  {
   "cell_type": "code",
   "execution_count": null,
   "metadata": {},
   "outputs": [],
   "source": []
  }
 ],
 "metadata": {
  "kernelspec": {
   "display_name": "Python 3.6.7 (bert)",
   "language": "python",
   "name": "bert"
  },
  "language_info": {
   "codemirror_mode": {
    "name": "ipython",
    "version": 3
   },
   "file_extension": ".py",
   "mimetype": "text/x-python",
   "name": "python",
   "nbconvert_exporter": "python",
   "pygments_lexer": "ipython3",
   "version": "3.6.7"
  }
 },
 "nbformat": 4,
 "nbformat_minor": 2
}
