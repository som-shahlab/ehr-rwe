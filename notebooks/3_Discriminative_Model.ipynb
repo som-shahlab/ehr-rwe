{
 "cells": [
  {
   "cell_type": "markdown",
   "metadata": {
    "deletable": true,
    "editable": true
   },
   "source": [
    "# Learning to Extract Pain Outcomes from Clinical Text without Labeled Data\n",
    "## II: Discriminative Model\n",
    "\n",
    "We train 2 standard discriminative model:\n",
    "\n",
    "- Sparse Logisitic Regression\n",
    "- Bidirectional Long Short Term Memory (LSTM)\n",
    " \n",
    "Logistic regression requires manual feature engineering while the LSTM is a standard, state-of-the-art approach for relation extraction problems."
   ]
  },
  {
   "cell_type": "code",
   "execution_count": 1,
   "metadata": {
    "collapsed": true,
    "deletable": true,
    "editable": true
   },
   "outputs": [],
   "source": [
    "%load_ext autoreload\n",
    "%autoreload 2\n",
    "%matplotlib inline"
   ]
  },
  {
   "cell_type": "code",
   "execution_count": 3,
   "metadata": {
    "collapsed": false,
    "deletable": true,
    "editable": true
   },
   "outputs": [],
   "source": [
    "import os\n",
    "import numba\n",
    "import numpy as np\n",
    "import matplotlib\n",
    "\n",
    "from snorkel import SnorkelSession\n",
    "from snorkel.learning.disc_models.rnn import *\n",
    "from snorkel.annotations import LabelAnnotator\n",
    "from snorkel.annotations import load_gold_labels\n",
    "from snorkel.models import candidate_subclass, Document, Sentence, Candidate, Span\n",
    "from snorkel.learning import GenerativeModel\n",
    "from rwe.labelers import *"
   ]
  },
  {
   "cell_type": "code",
   "execution_count": 4,
   "metadata": {
    "collapsed": false,
    "deletable": true,
    "editable": true
   },
   "outputs": [],
   "source": [
    "session = SnorkelSession()\n",
    "\n",
    "try:\n",
    "    PainLocation = candidate_subclass('PainLocation', ['pain', 'anatomy'])\n",
    "except:\n",
    "    pass"
   ]
  },
  {
   "cell_type": "markdown",
   "metadata": {
    "deletable": true,
    "editable": true
   },
   "source": [
    "### Load Candidates and Gold Labels"
   ]
  },
  {
   "cell_type": "code",
   "execution_count": 12,
   "metadata": {
    "collapsed": false,
    "deletable": true,
    "editable": true
   },
   "outputs": [
    {
     "name": "stdout",
     "output_type": "stream",
     "text": [
      "Candidates [TRAIN] 225\n",
      "Candidates [DEV]   63\n",
      "Candidates [TEST]  168\n",
      "Gold [TRAIN] 225\n",
      "Gold [DEV]   63\n",
      "Gold [TEST]  168\n"
     ]
    }
   ],
   "source": [
    "train_cands = session.query(Candidate).filter(Candidate.split == 0).order_by(Candidate.id).all()\n",
    "dev_cands   = session.query(Candidate).filter(Candidate.split == 1).order_by(Candidate.id).all()\n",
    "test_cands  = session.query(Candidate).filter(Candidate.split == 2).order_by(Candidate.id).all()\n",
    "\n",
    "L_gold_train = load_gold_labels(session, split=0, annotator_name='gold')\n",
    "L_gold_dev   = load_gold_labels(session, split=1, annotator_name='gold')\n",
    "L_gold_test  = load_gold_labels(session, split=2, annotator_name='gold')\n",
    "\n",
    "print \"Candidates [TRAIN]\", len(train_cands)\n",
    "print \"Candidates [DEV]  \", len(dev_cands)\n",
    "print \"Candidates [TEST] \", len(test_cands)\n",
    "\n",
    "print \"Gold [TRAIN]\", L_gold_train.shape[0]\n",
    "print \"Gold [DEV]  \", L_gold_dev.shape[0]\n",
    "print \"Gold [TEST] \", L_gold_test.shape[0]\n",
    "\n",
    "# Depending on your choice of parser, some candidates might be identified that were not originally\n",
    "# labeled in our gold test set. This hack just sets those unknown labels to negative\n",
    "L_gold_train[L_gold_train == 0] = -1\n",
    "L_gold_dev[L_gold_dev == 0]     = -1\n",
    "L_gold_test[L_gold_test == 0]   = -1"
   ]
  },
  {
   "cell_type": "code",
   "execution_count": 5,
   "metadata": {
    "collapsed": true,
    "deletable": true,
    "editable": true
   },
   "outputs": [],
   "source": [
    "documents = session.query(Document).all()"
   ]
  },
  {
   "cell_type": "code",
   "execution_count": 6,
   "metadata": {
    "collapsed": false,
    "deletable": true,
    "editable": true
   },
   "outputs": [
    {
     "name": "stdout",
     "output_type": "stream",
     "text": [
      "225\n",
      "63\n",
      "168\n"
     ]
    }
   ],
   "source": [
    "print len(train_cands)\n",
    "print len(dev_cands)\n",
    "print len(test_cands)\n",
    "\n",
    "candidates = train_cands + dev_cands + test_cands"
   ]
  },
  {
   "cell_type": "code",
   "execution_count": 7,
   "metadata": {
    "collapsed": false
   },
   "outputs": [
    {
     "name": "stdout",
     "output_type": "stream",
     "text": [
      "Loaded 25 labeling functions\n",
      "\n"
     ]
    }
   ],
   "source": [
    "from rwe.labelers import *\n",
    "\n",
    "# get our pain/anatomy relation labeling functions\n",
    "lfs = get_labeling_functions(\"pain_anatomy\")\n",
    "\n",
    "print \"Loaded {} labeling functions\\n\".format(len(lfs))\n"
   ]
  },
  {
   "cell_type": "code",
   "execution_count": 8,
   "metadata": {
    "collapsed": false,
    "deletable": true,
    "editable": true
   },
   "outputs": [
    {
     "name": "stdout",
     "output_type": "stream",
     "text": [
      "(225, 25)\n",
      "(63, 25)\n"
     ]
    }
   ],
   "source": [
    "from snorkel.annotations import LabelAnnotator\n",
    "\n",
    "labeler = LabelAnnotator(lfs=lfs)\n",
    "L_train = labeler.load_matrix(session, split=0)\n",
    "L_dev   = labeler.load_matrix(session, split=1)\n",
    "\n",
    "print L_train.shape\n",
    "print L_dev.shape"
   ]
  },
  {
   "cell_type": "markdown",
   "metadata": {
    "collapsed": true,
    "deletable": true,
    "editable": true
   },
   "source": [
    "## Sparse Logistic Regression\n",
    "\n",
    "### Create Features\n",
    "This uses a standard NLP feature generation library using lemmatization, POS tags, and sentence dependency parsing to generate candidate features."
   ]
  },
  {
   "cell_type": "code",
   "execution_count": 9,
   "metadata": {
    "collapsed": false,
    "deletable": true,
    "editable": true
   },
   "outputs": [
    {
     "name": "stdout",
     "output_type": "stream",
     "text": [
      "Clearing existing...\n",
      "Running UDF...\n",
      "[========================================] 100%\n",
      "\n",
      "Clearing existing...\n",
      "Running UDF...\n",
      "[========================================] 100%\n",
      "\n",
      "Clearing existing...\n",
      "Running UDF...\n",
      "[========================================] 100%\n",
      "\n"
     ]
    }
   ],
   "source": [
    "from snorkel.annotations import FeatureAnnotator\n",
    "from rwe.features import hybrid_span_mention_ftrs\n",
    "\n",
    "featurizer = FeatureAnnotator(hybrid_span_mention_ftrs)\n",
    "\n",
    "F_train = featurizer.load_matrix(session, split=0)\n",
    "F_dev   = featurizer.load_matrix(session, split=1)\n",
    "F_test  = featurizer.load_matrix(session, split=2)\n",
    "\n",
    "F_train = F_train if F_train.size != 0 else featurizer.apply(split=0)\n",
    "F_dev   = F_dev if F_dev.size != 0 else featurizer.apply_existing(split=1)\n",
    "F_test  = F_test if F_test.size != 0 else featurizer.apply_existing(split=2)"
   ]
  },
  {
   "cell_type": "markdown",
   "metadata": {
    "deletable": true,
    "editable": true
   },
   "source": [
    "## Supervised Labels"
   ]
  },
  {
   "cell_type": "code",
   "execution_count": 10,
   "metadata": {
    "collapsed": true,
    "deletable": true,
    "editable": true
   },
   "outputs": [],
   "source": [
    "from sklearn.metrics import f1_score,recall_score,precision_score"
   ]
  },
  {
   "cell_type": "code",
   "execution_count": 17,
   "metadata": {
    "collapsed": false,
    "deletable": true,
    "editable": true
   },
   "outputs": [],
   "source": [
    "from snorkel.annotations import load_marginals\n",
    "from snorkel.annotations import load_gold_labels\n",
    "from snorkel.learning.utils import MentionScorer\n",
    "from snorkel.learning import RandomSearch, ListParameter, RangeParameter\n",
    "\n",
    "train_marginals = load_marginals(session, split=0)"
   ]
  },
  {
   "cell_type": "markdown",
   "metadata": {
    "deletable": true,
    "editable": true
   },
   "source": [
    "## Train Discriminitive Model"
   ]
  },
  {
   "cell_type": "code",
   "execution_count": 46,
   "metadata": {
    "collapsed": false
   },
   "outputs": [
    {
     "name": "stdout",
     "output_type": "stream",
     "text": [
      "Initialized RandomSearch search of size 5. Search space size = 8.\n",
      "============================================================\n",
      "[1] Testing step_size = 4.44e-05, lr = 1.00e-02, l1_penalty = 1.00e-04, l2_penalty = 1.00e-04, rebalance = 5.00e-01\n",
      "============================================================\n",
      "disc_learning: random seed 1234\n",
      "[SparseLogisticRegression] Training model\n",
      "[SparseLogisticRegression] n_train=174  #epochs=500  batch size=174\n",
      "[SparseLogisticRegression] Epoch 0 (0.02s)\tAverage loss=0.937851\n",
      "[SparseLogisticRegression] Epoch 100 (1.53s)\tAverage loss=0.436457\n",
      "[SparseLogisticRegression] Epoch 200 (2.92s)\tAverage loss=0.435393\n",
      "[SparseLogisticRegression] Epoch 300 (4.47s)\tAverage loss=0.435336\n",
      "[SparseLogisticRegression] Epoch 400 (6.03s)\tAverage loss=0.435343\n",
      "[SparseLogisticRegression] Epoch 499 (7.43s)\tAverage loss=0.435346\n",
      "[SparseLogisticRegression] Training done (7.43s)\n",
      "[SparseLogisticRegression] F1 Score: 0.615384615385\n",
      "[SparseLogisticRegression] Model saved in <checkpoints> as <SparseLogisticRegression_0>\n",
      "============================================================\n",
      "[2] Testing step_size = 4.44e-05, lr = 1.00e-02, l1_penalty = 1.00e-02, l2_penalty = 1.00e-04, rebalance = 5.00e-01\n",
      "============================================================\n",
      "disc_learning: random seed 1234\n",
      "[SparseLogisticRegression] Training model\n",
      "[SparseLogisticRegression] n_train=174  #epochs=500  batch size=174\n",
      "[SparseLogisticRegression] Epoch 0 (0.02s)\tAverage loss=6.788413\n",
      "[SparseLogisticRegression] Epoch 100 (1.53s)\tAverage loss=6.908366\n",
      "[SparseLogisticRegression] Epoch 200 (2.94s)\tAverage loss=6.858201\n",
      "[SparseLogisticRegression] Epoch 300 (4.52s)\tAverage loss=6.856060\n",
      "[SparseLogisticRegression] Epoch 400 (6.08s)\tAverage loss=6.856655\n",
      "[SparseLogisticRegression] Epoch 499 (7.51s)\tAverage loss=6.856884\n",
      "[SparseLogisticRegression] Training done (7.51s)\n",
      "[SparseLogisticRegression] F1 Score: 0.615384615385\n",
      "============================================================\n",
      "[3] Testing step_size = 4.44e-05, lr = 1.00e-03, l1_penalty = 1.00e-02, l2_penalty = 1.00e-02, rebalance = 5.00e-01\n",
      "============================================================\n",
      "disc_learning: random seed 1234\n",
      "[SparseLogisticRegression] Training model\n",
      "[SparseLogisticRegression] n_train=174  #epochs=500  batch size=174\n",
      "[SparseLogisticRegression] Epoch 0 (0.03s)\tAverage loss=7.152168\n",
      "[SparseLogisticRegression] Epoch 100 (1.42s)\tAverage loss=6.996068\n",
      "[SparseLogisticRegression] Epoch 200 (2.96s)\tAverage loss=7.124614\n",
      "[SparseLogisticRegression] Epoch 300 (4.50s)\tAverage loss=7.184466\n",
      "[SparseLogisticRegression] Epoch 400 (5.94s)\tAverage loss=7.215929\n",
      "[SparseLogisticRegression] Epoch 499 (7.50s)\tAverage loss=7.235091\n",
      "[SparseLogisticRegression] Training done (7.50s)\n",
      "[SparseLogisticRegression] F1 Score: 0.666666666667\n",
      "[SparseLogisticRegression] Model saved in <checkpoints> as <SparseLogisticRegression_2>\n",
      "============================================================\n",
      "[4] Testing step_size = 4.44e-05, lr = 1.00e-02, l1_penalty = 1.00e-04, l2_penalty = 1.00e-04, rebalance = 5.00e-01\n",
      "============================================================\n",
      "disc_learning: random seed 1234\n",
      "[SparseLogisticRegression] Training model\n",
      "[SparseLogisticRegression] n_train=174  #epochs=500  batch size=174\n",
      "[SparseLogisticRegression] Epoch 0 (0.02s)\tAverage loss=0.937851\n",
      "[SparseLogisticRegression] Epoch 100 (1.42s)\tAverage loss=0.436457\n",
      "[SparseLogisticRegression] Epoch 200 (3.00s)\tAverage loss=0.435393\n",
      "[SparseLogisticRegression] Epoch 300 (4.43s)\tAverage loss=0.435336\n",
      "[SparseLogisticRegression] Epoch 400 (6.00s)\tAverage loss=0.435343\n",
      "[SparseLogisticRegression] Epoch 499 (7.55s)\tAverage loss=0.435346\n",
      "[SparseLogisticRegression] Training done (7.55s)\n",
      "[SparseLogisticRegression] F1 Score: 0.615384615385\n",
      "============================================================\n",
      "[5] Testing step_size = 4.44e-05, lr = 1.00e-02, l1_penalty = 1.00e-04, l2_penalty = 1.00e-04, rebalance = 5.00e-01\n",
      "============================================================\n",
      "disc_learning: random seed 1234\n",
      "[SparseLogisticRegression] Training model\n",
      "[SparseLogisticRegression] n_train=174  #epochs=500  batch size=174\n",
      "[SparseLogisticRegression] Epoch 0 (0.03s)\tAverage loss=0.937851\n",
      "[SparseLogisticRegression] Epoch 100 (1.55s)\tAverage loss=0.436457\n",
      "[SparseLogisticRegression] Epoch 200 (2.93s)\tAverage loss=0.435393\n",
      "[SparseLogisticRegression] Epoch 300 (4.45s)\tAverage loss=0.435336\n",
      "[SparseLogisticRegression] Epoch 400 (5.98s)\tAverage loss=0.435343\n",
      "[SparseLogisticRegression] Epoch 499 (7.38s)\tAverage loss=0.435346\n",
      "[SparseLogisticRegression] Training done (7.38s)\n",
      "[SparseLogisticRegression] F1 Score: 0.615384615385\n",
      "INFO:tensorflow:Restoring parameters from checkpoints/SparseLogisticRegression_2/SparseLogisticRegression_2-0\n",
      "[SparseLogisticRegression] Loaded model <SparseLogisticRegression_2>\n"
     ]
    },
    {
     "data": {
      "text/html": [
       "<div>\n",
       "<table border=\"1\" class=\"dataframe\">\n",
       "  <thead>\n",
       "    <tr style=\"text-align: right;\">\n",
       "      <th></th>\n",
       "      <th>step_size</th>\n",
       "      <th>lr</th>\n",
       "      <th>l1_penalty</th>\n",
       "      <th>l2_penalty</th>\n",
       "      <th>rebalance</th>\n",
       "      <th>Prec.</th>\n",
       "      <th>Rec.</th>\n",
       "      <th>F1</th>\n",
       "    </tr>\n",
       "  </thead>\n",
       "  <tbody>\n",
       "    <tr>\n",
       "      <th>2</th>\n",
       "      <td>0.000044</td>\n",
       "      <td>0.001</td>\n",
       "      <td>0.0100</td>\n",
       "      <td>0.0100</td>\n",
       "      <td>0.5</td>\n",
       "      <td>0.629630</td>\n",
       "      <td>0.708333</td>\n",
       "      <td>0.666667</td>\n",
       "    </tr>\n",
       "    <tr>\n",
       "      <th>0</th>\n",
       "      <td>0.000044</td>\n",
       "      <td>0.010</td>\n",
       "      <td>0.0001</td>\n",
       "      <td>0.0001</td>\n",
       "      <td>0.5</td>\n",
       "      <td>0.571429</td>\n",
       "      <td>0.666667</td>\n",
       "      <td>0.615385</td>\n",
       "    </tr>\n",
       "    <tr>\n",
       "      <th>1</th>\n",
       "      <td>0.000044</td>\n",
       "      <td>0.010</td>\n",
       "      <td>0.0100</td>\n",
       "      <td>0.0001</td>\n",
       "      <td>0.5</td>\n",
       "      <td>0.571429</td>\n",
       "      <td>0.666667</td>\n",
       "      <td>0.615385</td>\n",
       "    </tr>\n",
       "    <tr>\n",
       "      <th>3</th>\n",
       "      <td>0.000044</td>\n",
       "      <td>0.010</td>\n",
       "      <td>0.0001</td>\n",
       "      <td>0.0001</td>\n",
       "      <td>0.5</td>\n",
       "      <td>0.571429</td>\n",
       "      <td>0.666667</td>\n",
       "      <td>0.615385</td>\n",
       "    </tr>\n",
       "    <tr>\n",
       "      <th>4</th>\n",
       "      <td>0.000044</td>\n",
       "      <td>0.010</td>\n",
       "      <td>0.0001</td>\n",
       "      <td>0.0001</td>\n",
       "      <td>0.5</td>\n",
       "      <td>0.571429</td>\n",
       "      <td>0.666667</td>\n",
       "      <td>0.615385</td>\n",
       "    </tr>\n",
       "  </tbody>\n",
       "</table>\n",
       "</div>"
      ],
      "text/plain": [
       "   step_size     lr  l1_penalty  l2_penalty  rebalance     Prec.      Rec.  \\\n",
       "2   0.000044  0.001      0.0100      0.0100        0.5  0.629630  0.708333   \n",
       "0   0.000044  0.010      0.0001      0.0001        0.5  0.571429  0.666667   \n",
       "1   0.000044  0.010      0.0100      0.0001        0.5  0.571429  0.666667   \n",
       "3   0.000044  0.010      0.0001      0.0001        0.5  0.571429  0.666667   \n",
       "4   0.000044  0.010      0.0001      0.0001        0.5  0.571429  0.666667   \n",
       "\n",
       "         F1  \n",
       "2  0.666667  \n",
       "0  0.615385  \n",
       "1  0.615385  \n",
       "3  0.615385  \n",
       "4  0.615385  "
      ]
     },
     "execution_count": 46,
     "metadata": {},
     "output_type": "execute_result"
    }
   ],
   "source": [
    "from snorkel.learning import SparseLogisticRegression\n",
    "from snorkel.learning import RandomSearch, ListParameter, RangeParameter\n",
    "\n",
    "num_model_search = 5\n",
    "\n",
    "# use grid search to optimize the generative model\n",
    "step_size_param     = ListParameter('step_size', [0.01 / L_train.shape[0]])\n",
    "decay_param         = ListParameter('lr', [1e-3, 1e-2])\n",
    "l1_param            = ListParameter('l1_penalty', [1e-4, 1e-2])\n",
    "l2_param            = ListParameter('l2_penalty', [1e-4, 1e-2])\n",
    "balance_param       = ListParameter('rebalance', [0.5])\n",
    "\n",
    "# search for the best model\n",
    "param_grid = [step_size_param, decay_param, l1_param, l2_param, balance_param]\n",
    "\n",
    "searcher = RandomSearch(SparseLogisticRegression, param_grid, F_train, \n",
    "                        train_marginals, n=num_model_search, seed=seed)\n",
    "\n",
    "disc_model, run_stats = searcher.fit(X_valid=F_dev, Y_valid=L_gold_dev, n_threads=1, \n",
    "                                     n_epochs=500, print_freq=100)\n",
    "\n",
    "run_stats"
   ]
  },
  {
   "cell_type": "code",
   "execution_count": 47,
   "metadata": {
    "collapsed": true,
    "deletable": true,
    "editable": true
   },
   "outputs": [],
   "source": [
    "from snorkel.models import GoldLabel, GoldLabelKey, Label, LabelKey, Feature, FeatureKey, Candidate"
   ]
  },
  {
   "cell_type": "code",
   "execution_count": 48,
   "metadata": {
    "collapsed": false,
    "deletable": true,
    "editable": true
   },
   "outputs": [
    {
     "name": "stdout",
     "output_type": "stream",
     "text": [
      "========================================\n",
      "Scores (Un-adjusted)\n",
      "========================================\n",
      "Pos. class accuracy: 0.826\n",
      "Neg. class accuracy: 0.672\n",
      "Precision            0.487\n",
      "Recall               0.826\n",
      "F1                   0.613\n",
      "----------------------------------------\n",
      "TP: 38 | FP: 40 | TN: 82 | FN: 8\n",
      "========================================\n",
      "\n"
     ]
    }
   ],
   "source": [
    "tp, fp, tn, fn = disc_model.error_analysis(session, F_test, L_gold_test, b=0.5)"
   ]
  },
  {
   "cell_type": "code",
   "execution_count": 49,
   "metadata": {
    "collapsed": false,
    "deletable": true,
    "editable": true
   },
   "outputs": [
    {
     "data": {
      "text/plain": [
       "array([<matplotlib.axes._subplots.AxesSubplot object at 0x122131c90>],\n",
       "      dtype=object)"
      ]
     },
     "execution_count": 49,
     "metadata": {},
     "output_type": "execute_result"
    },
    {
     "data": {
      "image/png": "[encoded data removed]",
      "text/plain": [
       "<matplotlib.figure.Figure at 0x122feb090>"
      ]
     },
     "metadata": {},
     "output_type": "display_data"
    }
   ],
   "source": [
    "m = disc_model.marginals(F_test)\n",
    "fig, ax = plt.subplots()\n",
    "df = pd.DataFrame(data=m, columns=['marginals'])\n",
    "pd.DataFrame.hist(df,range=(0.0, 1.0),bins=20, ax=ax)"
   ]
  },
  {
   "cell_type": "markdown",
   "metadata": {
    "deletable": true,
    "editable": true
   },
   "source": [
    "## LSTM\n",
    "\n",
    "Long Short Term Memory (LSTM) models can acheive state-of-the-art performance on many text classification tasks. We'll train a simple bidirectional LSTM model below.\n",
    "\n",
    "In deep learning, hyperparameter tuning is very important and computationally expensive step in training models. For purposes of this tutorial, we've pre-selected some settings so that you can train a model in under 10 minutes. Advanced users can look at our Grid Search Tutorial for more details on choosing these parameters."
   ]
  },
  {
   "cell_type": "code",
   "execution_count": 52,
   "metadata": {
    "collapsed": false,
    "deletable": true,
    "editable": true
   },
   "outputs": [
    {
     "name": "stdout",
     "output_type": "stream",
     "text": [
      "Initialized RandomSearch search of size 5. Search space size = 36.\n",
      "============================================================\n",
      "[1] Testing attn_window = 10, batch_size = 32, lr = 1.00e-03, dropout = 0.00e+00, dim = 50\n",
      "============================================================\n",
      "disc_learning: random seed 1234\n",
      "[reRNN] Training model\n",
      "[reRNN] n_train=213  #epochs=10  batch size=32\n",
      "[reRNN] Epoch 0 (3.12s)\tAverage loss=0.679233\n",
      "[reRNN] Epoch 9 (30.38s)\tAverage loss=0.502762\n",
      "[reRNN] Training done (30.38s)\n",
      "[reRNN] F1 Score: 0.590163934426\n",
      "[reRNN] Model saved in <checkpoints> as <reRNN_0>\n",
      "============================================================\n",
      "[2] Testing attn_window = 10, batch_size = 64, lr = 1.00e-03, dropout = 0.00e+00, dim = 100\n",
      "============================================================\n",
      "disc_learning: random seed 1234\n",
      "[reRNN] Training model\n",
      "[reRNN] n_train=213  #epochs=10  batch size=64\n",
      "[reRNN] Epoch 0 (3.21s)\tAverage loss=0.660391\n",
      "[reRNN] Epoch 9 (43.98s)\tAverage loss=0.527911\n",
      "[reRNN] Training done (43.98s)\n",
      "[reRNN] F1 Score: 0.716981132075\n",
      "[reRNN] Model saved in <checkpoints> as <reRNN_1>\n",
      "============================================================\n",
      "[3] Testing attn_window = 10, batch_size = 64, lr = 1.00e-02, dropout = 0.00e+00, dim = 100\n",
      "============================================================\n",
      "disc_learning: random seed 1234\n",
      "[reRNN] Training model\n",
      "[reRNN] n_train=213  #epochs=10  batch size=64\n",
      "[reRNN] Epoch 0 (3.26s)\tAverage loss=0.728036\n",
      "[reRNN] Epoch 9 (35.06s)\tAverage loss=1.324923\n",
      "[reRNN] Training done (35.06s)\n",
      "[reRNN] F1 Score: 0.341463414634\n",
      "============================================================\n",
      "[4] Testing attn_window = 10, batch_size = 32, lr = 1.00e-04, dropout = 5.00e-01, dim = 50\n",
      "============================================================\n",
      "disc_learning: random seed 1234\n",
      "[reRNN] Training model\n",
      "[reRNN] n_train=213  #epochs=10  batch size=32\n",
      "[reRNN] Epoch 0 (3.09s)\tAverage loss=0.692749\n",
      "[reRNN] Epoch 9 (33.24s)\tAverage loss=0.639104\n",
      "[reRNN] Training done (33.24s)\n",
      "[reRNN] F1 Score: 0.0\n",
      "============================================================\n",
      "[5] Testing attn_window = 10, batch_size = 64, lr = 1.00e-02, dropout = 2.50e-01, dim = 50\n",
      "============================================================\n",
      "disc_learning: random seed 1234\n",
      "[reRNN] Training model\n",
      "[reRNN] n_train=213  #epochs=10  batch size=64\n",
      "[reRNN] Epoch 0 (2.18s)\tAverage loss=0.686146\n",
      "[reRNN] Epoch 9 (26.86s)\tAverage loss=0.463377\n",
      "[reRNN] Training done (26.86s)\n",
      "[reRNN] F1 Score: 0.4\n",
      "INFO:tensorflow:Restoring parameters from checkpoints/reRNN_1/reRNN_1-0\n",
      "[reRNN] Loaded model <reRNN_1>\n"
     ]
    },
    {
     "data": {
      "text/html": [
       "<div>\n",
       "<table border=\"1\" class=\"dataframe\">\n",
       "  <thead>\n",
       "    <tr style=\"text-align: right;\">\n",
       "      <th></th>\n",
       "      <th>attn_window</th>\n",
       "      <th>batch_size</th>\n",
       "      <th>lr</th>\n",
       "      <th>dropout</th>\n",
       "      <th>dim</th>\n",
       "      <th>Prec.</th>\n",
       "      <th>Rec.</th>\n",
       "      <th>F1</th>\n",
       "    </tr>\n",
       "  </thead>\n",
       "  <tbody>\n",
       "    <tr>\n",
       "      <th>1</th>\n",
       "      <td>10</td>\n",
       "      <td>64</td>\n",
       "      <td>0.0010</td>\n",
       "      <td>0.00</td>\n",
       "      <td>100</td>\n",
       "      <td>0.655172</td>\n",
       "      <td>0.791667</td>\n",
       "      <td>0.716981</td>\n",
       "    </tr>\n",
       "    <tr>\n",
       "      <th>0</th>\n",
       "      <td>10</td>\n",
       "      <td>32</td>\n",
       "      <td>0.0010</td>\n",
       "      <td>0.00</td>\n",
       "      <td>50</td>\n",
       "      <td>0.486486</td>\n",
       "      <td>0.750000</td>\n",
       "      <td>0.590164</td>\n",
       "    </tr>\n",
       "    <tr>\n",
       "      <th>4</th>\n",
       "      <td>10</td>\n",
       "      <td>64</td>\n",
       "      <td>0.0100</td>\n",
       "      <td>0.25</td>\n",
       "      <td>50</td>\n",
       "      <td>0.428571</td>\n",
       "      <td>0.375000</td>\n",
       "      <td>0.400000</td>\n",
       "    </tr>\n",
       "    <tr>\n",
       "      <th>2</th>\n",
       "      <td>10</td>\n",
       "      <td>64</td>\n",
       "      <td>0.0100</td>\n",
       "      <td>0.00</td>\n",
       "      <td>100</td>\n",
       "      <td>0.411765</td>\n",
       "      <td>0.291667</td>\n",
       "      <td>0.341463</td>\n",
       "    </tr>\n",
       "    <tr>\n",
       "      <th>3</th>\n",
       "      <td>10</td>\n",
       "      <td>32</td>\n",
       "      <td>0.0001</td>\n",
       "      <td>0.50</td>\n",
       "      <td>50</td>\n",
       "      <td>0.000000</td>\n",
       "      <td>0.000000</td>\n",
       "      <td>0.000000</td>\n",
       "    </tr>\n",
       "  </tbody>\n",
       "</table>\n",
       "</div>"
      ],
      "text/plain": [
       "   attn_window  batch_size      lr  dropout  dim     Prec.      Rec.        F1\n",
       "1           10          64  0.0010     0.00  100  0.655172  0.791667  0.716981\n",
       "0           10          32  0.0010     0.00   50  0.486486  0.750000  0.590164\n",
       "4           10          64  0.0100     0.25   50  0.428571  0.375000  0.400000\n",
       "2           10          64  0.0100     0.00  100  0.411765  0.291667  0.341463\n",
       "3           10          32  0.0001     0.50   50  0.000000  0.000000  0.000000"
      ]
     },
     "execution_count": 52,
     "metadata": {},
     "output_type": "execute_result"
    }
   ],
   "source": [
    "np.random.seed(0)\n",
    "\n",
    "def get_max_seq_len(cands):\n",
    "    l = 0\n",
    "    for c in cands:\n",
    "        l = max(len(c[0].sentence.words),l)\n",
    "    print \"max seq len\", l\n",
    "    return l\n",
    "\n",
    "attn_window      = ListParameter('attn_window', [10])\n",
    "batch_size_param = ListParameter('batch_size', [32, 64])\n",
    "rate_param       = RangeParameter('lr', 1e-4, 1e-2, step=1, log_base=10)\n",
    "dropout_param    = RangeParameter('dropout', 0.0, 0.5, step=0.25)\n",
    "dim_param        = ListParameter('dim', [50, 100])\n",
    "\n",
    "param_grid = [attn_window, batch_size_param, rate_param, dropout_param, dim_param]\n",
    "searcher = RandomSearch(reRNN, param_grid, train_cands, train_marginals, n=num_model_search, seed=seed)\n",
    "\n",
    "# search for the best model\n",
    "disc_model, run_stats = searcher.fit(X_valid=dev_cands, Y_valid=L_gold_dev, n_threads=1, \n",
    "                                     n_epochs=100, print_freq=10)\n",
    "\n",
    "run_stats"
   ]
  },
  {
   "cell_type": "code",
   "execution_count": 56,
   "metadata": {
    "collapsed": false,
    "deletable": true,
    "editable": true
   },
   "outputs": [
    {
     "data": {
      "text/plain": [
       "array([<matplotlib.axes._subplots.AxesSubplot object at 0x1292046d0>],\n",
       "      dtype=object)"
      ]
     },
     "execution_count": 56,
     "metadata": {},
     "output_type": "execute_result"
    },
    {
     "data": {
      "image/png": "[encoded data removed]",
      "text/plain": [
       "<matplotlib.figure.Figure at 0x123134910>"
      ]
     },
     "metadata": {},
     "output_type": "display_data"
    }
   ],
   "source": [
    "m = disc_model.marginals(test_cands)\n",
    "\n",
    "fig, ax = plt.subplots()\n",
    "df = pd.DataFrame(data=m, columns=['marginals'])\n",
    "pd.DataFrame.hist(df,range=(0.0, 1.0),bins=20, ax=ax)"
   ]
  },
  {
   "cell_type": "code",
   "execution_count": 58,
   "metadata": {
    "collapsed": false,
    "deletable": true,
    "editable": true
   },
   "outputs": [
    {
     "name": "stdout",
     "output_type": "stream",
     "text": [
      "========================================\n",
      "Scores (Un-adjusted)\n",
      "========================================\n",
      "Pos. class accuracy: 0.565\n",
      "Neg. class accuracy: 0.746\n",
      "Precision            0.456\n",
      "Recall               0.565\n",
      "F1                   0.505\n",
      "----------------------------------------\n",
      "TP: 26 | FP: 31 | TN: 91 | FN: 20\n",
      "========================================\n",
      "\n"
     ]
    }
   ],
   "source": [
    "tp, fp, tn, fn = disc_model.error_analysis(session, test_cands, L_gold_test, b=0.5)"
   ]
  }
 ],
 "metadata": {
  "kernelspec": {
   "display_name": "Python 2",
   "language": "python",
   "name": "python2"
  },
  "language_info": {
   "codemirror_mode": {
    "name": "ipython",
    "version": 2
   },
   "file_extension": ".py",
   "mimetype": "text/x-python",
   "name": "python",
   "nbconvert_exporter": "python",
   "pygments_lexer": "ipython2",
   "version": "2.7.13"
  }
 },
 "nbformat": 4,
 "nbformat_minor": 1
}
