{
 "cells": [
  {
   "cell_type": "markdown",
   "metadata": {
    "deletable": true,
    "editable": true
   },
   "source": [
    "# Learning to Extract Pain Outcomes from Clinical Text without Labeled Data\n",
    "## II: Generative Model\n",
    "\n"
   ]
  },
  {
   "cell_type": "code",
   "execution_count": 1,
   "metadata": {
    "collapsed": false,
    "deletable": true,
    "editable": true
   },
   "outputs": [],
   "source": [
    "%load_ext autoreload\n",
    "%autoreload 2\n",
    "%matplotlib inline"
   ]
  },
  {
   "cell_type": "code",
   "execution_count": 2,
   "metadata": {
    "collapsed": false,
    "deletable": true,
    "editable": true
   },
   "outputs": [],
   "source": [
    "import os\n",
    "import numba\n",
    "import numpy as np\n",
    "import matplotlib\n",
    "import pandas as pd\n",
    "\n",
    "from snorkel import SnorkelSession\n",
    "from snorkel.learning.disc_models.rnn import *\n",
    "from snorkel.annotations import LabelAnnotator\n",
    "from snorkel.annotations import load_gold_labels\n",
    "from snorkel.models import candidate_subclass, Document, Sentence, Candidate, Span\n",
    "from snorkel.learning import GenerativeModel"
   ]
  },
  {
   "cell_type": "code",
   "execution_count": 3,
   "metadata": {
    "collapsed": false,
    "deletable": true,
    "editable": true
   },
   "outputs": [],
   "source": [
    "session = SnorkelSession()\n",
    "\n",
    "try:\n",
    "    PainLocation = candidate_subclass('PainLocation', ['pain', 'anatomy'])\n",
    "except:\n",
    "    pass"
   ]
  },
  {
   "cell_type": "markdown",
   "metadata": {
    "deletable": true,
    "editable": true
   },
   "source": [
    "### Load Candidates and Gold Labels"
   ]
  },
  {
   "cell_type": "code",
   "execution_count": 32,
   "metadata": {
    "collapsed": false,
    "deletable": true,
    "editable": true
   },
   "outputs": [
    {
     "name": "stdout",
     "output_type": "stream",
     "text": [
      "Candidates [TRAIN] 225\n",
      "Candidates [DEV]   63\n",
      "Candidates [TEST]  168\n",
      "Gold [TRAIN] 225\n",
      "Gold [DEV]   63\n",
      "Gold [TEST]  168\n"
     ]
    }
   ],
   "source": [
    "train_cands = session.query(Candidate).filter(Candidate.split == 0).order_by(Candidate.id).all()\n",
    "dev_cands   = session.query(Candidate).filter(Candidate.split == 1).order_by(Candidate.id).all()\n",
    "test_cands  = session.query(Candidate).filter(Candidate.split == 2).order_by(Candidate.id).all()\n",
    "\n",
    "L_gold_train = load_gold_labels(session, split=0, annotator_name='gold')\n",
    "L_gold_dev   = load_gold_labels(session, split=1, annotator_name='gold')\n",
    "L_gold_test  = load_gold_labels(session, split=2, annotator_name='gold')\n",
    "\n",
    "print \"Candidates [TRAIN]\", len(train_cands)\n",
    "print \"Candidates [DEV]  \", len(dev_cands)\n",
    "print \"Candidates [TEST] \", len(test_cands)\n",
    "\n",
    "print \"Gold [TRAIN]\", L_gold_train.shape[0]\n",
    "print \"Gold [DEV]  \", L_gold_dev.shape[0]\n",
    "print \"Gold [TEST] \", L_gold_test.shape[0]\n",
    "\n",
    "# Depending on your choice of parser, some candidates might be identified that were not originally labeled\n",
    "# in our gold test set. This hack just sets those unknown labels to negative\n",
    "L_gold_train[L_gold_train == 0] = -1\n",
    "L_gold_dev[L_gold_dev == 0]     = -1\n",
    "L_gold_test[L_gold_test == 0]   = -1"
   ]
  },
  {
   "cell_type": "code",
   "execution_count": 5,
   "metadata": {
    "collapsed": true,
    "deletable": true,
    "editable": true
   },
   "outputs": [],
   "source": [
    "documents = session.query(Document).all()\n",
    "candidates = train_cands + dev_cands + test_cands"
   ]
  },
  {
   "cell_type": "markdown",
   "metadata": {
    "deletable": true,
    "editable": true
   },
   "source": [
    "## Weak Supervision\n",
    "Load our labeling function (LF) implementations"
   ]
  },
  {
   "cell_type": "code",
   "execution_count": 10,
   "metadata": {
    "collapsed": false,
    "deletable": true,
    "editable": true
   },
   "outputs": [
    {
     "name": "stdout",
     "output_type": "stream",
     "text": [
      "Loaded 25 labeling functions\n",
      "\n",
      "LF_candidate_in_checklist\n",
      "LF_candidate_in_list\n",
      "LF_complains_of\n",
      "LF_contiguous_left_pain\n",
      "LF_contiguous_right_pain\n",
      "LF_date_between\n",
      "LF_far_apart\n",
      "LF_history_of_present_illness\n",
      "LF_left_pain_anatomy_between\n",
      "LF_left_pain_multiple_anat\n",
      "LF_less_far_apart\n",
      "LF_long_distance_left_pain\n",
      "LF_misattached_entities\n",
      "LF_misattached_entities2\n",
      "LF_misattached_entities3\n",
      "LF_near_contiguous_left_pain\n",
      "LF_near_contiguous_right_pain\n",
      "LF_negated_term_between_entities\n",
      "LF_negex_definite_negation_left\n",
      "LF_negex_definite_negation_right\n",
      "LF_pain_between_entities\n",
      "LF_pain_score_location\n",
      "LF_past_medical_history\n",
      "LF_radiograph_view\n",
      "LF_warning_signs_hypothetical\n"
     ]
    }
   ],
   "source": [
    "from rwe.labelers import *\n",
    "\n",
    "# get our pain/anatomy relation labeling functions\n",
    "lfs = get_labeling_functions(\"pain_anatomy\")\n",
    "\n",
    "print \"Loaded {} labeling functions\\n\".format(len(lfs))\n",
    "for lf in lfs:\n",
    "    print lf.__name__"
   ]
  },
  {
   "cell_type": "markdown",
   "metadata": {},
   "source": [
    "### Applying Labeling Functions"
   ]
  },
  {
   "cell_type": "code",
   "execution_count": 19,
   "metadata": {
    "collapsed": true,
    "deletable": true,
    "editable": true
   },
   "outputs": [],
   "source": [
    "labeler = LabelAnnotator(lfs=lfs)"
   ]
  },
  {
   "cell_type": "code",
   "execution_count": 20,
   "metadata": {
    "collapsed": false,
    "deletable": true,
    "editable": true
   },
   "outputs": [
    {
     "name": "stdout",
     "output_type": "stream",
     "text": [
      "Clearing existing...\n",
      "Running UDF...\n",
      "[========================================] 100%\n",
      "\n",
      "Clearing existing...\n",
      "Running UDF...\n",
      "[========================================] 100%\n",
      "\n",
      "Clearing existing...\n",
      "Running UDF...\n",
      "[========================================] 100%\n",
      "\n"
     ]
    }
   ],
   "source": [
    "L_train = labeler.apply(split=0, parallelism=1)\n",
    "L_dev   = labeler.apply_existing(split=1, parallelism=1)\n",
    "L_test  = labeler.apply_existing(split=2, parallelism=1)"
   ]
  },
  {
   "cell_type": "markdown",
   "metadata": {
    "deletable": true,
    "editable": true
   },
   "source": [
    "### Labeling Function Empirical Accuracy Statistics\n",
    "Since we have labeled training data, we can examine empirical statistics for labeling function performance. Good labeling function design requires than any heuristic be correct with probablity better than random chance. "
   ]
  },
  {
   "cell_type": "code",
   "execution_count": 21,
   "metadata": {
    "collapsed": false,
    "deletable": true,
    "editable": true
   },
   "outputs": [
    {
     "data": {
      "text/html": [
       "<div>\n",
       "<table border=\"1\" class=\"dataframe\">\n",
       "  <thead>\n",
       "    <tr style=\"text-align: right;\">\n",
       "      <th></th>\n",
       "      <th>j</th>\n",
       "      <th>Coverage</th>\n",
       "      <th>Overlaps</th>\n",
       "      <th>Conflicts</th>\n",
       "      <th>TP</th>\n",
       "      <th>FP</th>\n",
       "      <th>FN</th>\n",
       "      <th>TN</th>\n",
       "      <th>Empirical Acc.</th>\n",
       "    </tr>\n",
       "  </thead>\n",
       "  <tbody>\n",
       "    <tr>\n",
       "      <th>LF_candidate_in_checklist</th>\n",
       "      <td>0</td>\n",
       "      <td>0.000000</td>\n",
       "      <td>0.000000</td>\n",
       "      <td>0.000000</td>\n",
       "      <td>0</td>\n",
       "      <td>0</td>\n",
       "      <td>0</td>\n",
       "      <td>0</td>\n",
       "      <td>NaN</td>\n",
       "    </tr>\n",
       "    <tr>\n",
       "      <th>LF_candidate_in_list</th>\n",
       "      <td>1</td>\n",
       "      <td>0.275556</td>\n",
       "      <td>0.275556</td>\n",
       "      <td>0.057778</td>\n",
       "      <td>0</td>\n",
       "      <td>0</td>\n",
       "      <td>5</td>\n",
       "      <td>57</td>\n",
       "      <td>0.919355</td>\n",
       "    </tr>\n",
       "    <tr>\n",
       "      <th>LF_complains_of</th>\n",
       "      <td>2</td>\n",
       "      <td>0.022222</td>\n",
       "      <td>0.022222</td>\n",
       "      <td>0.000000</td>\n",
       "      <td>4</td>\n",
       "      <td>1</td>\n",
       "      <td>0</td>\n",
       "      <td>0</td>\n",
       "      <td>0.800000</td>\n",
       "    </tr>\n",
       "    <tr>\n",
       "      <th>LF_contiguous_left_pain</th>\n",
       "      <td>3</td>\n",
       "      <td>0.004444</td>\n",
       "      <td>0.004444</td>\n",
       "      <td>0.004444</td>\n",
       "      <td>1</td>\n",
       "      <td>0</td>\n",
       "      <td>0</td>\n",
       "      <td>0</td>\n",
       "      <td>1.000000</td>\n",
       "    </tr>\n",
       "    <tr>\n",
       "      <th>LF_contiguous_right_pain</th>\n",
       "      <td>4</td>\n",
       "      <td>0.364444</td>\n",
       "      <td>0.111111</td>\n",
       "      <td>0.066667</td>\n",
       "      <td>53</td>\n",
       "      <td>29</td>\n",
       "      <td>0</td>\n",
       "      <td>0</td>\n",
       "      <td>0.646341</td>\n",
       "    </tr>\n",
       "    <tr>\n",
       "      <th>LF_date_between</th>\n",
       "      <td>5</td>\n",
       "      <td>0.000000</td>\n",
       "      <td>0.000000</td>\n",
       "      <td>0.000000</td>\n",
       "      <td>0</td>\n",
       "      <td>0</td>\n",
       "      <td>0</td>\n",
       "      <td>0</td>\n",
       "      <td>NaN</td>\n",
       "    </tr>\n",
       "    <tr>\n",
       "      <th>LF_far_apart</th>\n",
       "      <td>6</td>\n",
       "      <td>0.115556</td>\n",
       "      <td>0.115556</td>\n",
       "      <td>0.000000</td>\n",
       "      <td>0</td>\n",
       "      <td>0</td>\n",
       "      <td>0</td>\n",
       "      <td>25</td>\n",
       "      <td>1.000000</td>\n",
       "    </tr>\n",
       "    <tr>\n",
       "      <th>LF_history_of_present_illness</th>\n",
       "      <td>7</td>\n",
       "      <td>0.044444</td>\n",
       "      <td>0.040000</td>\n",
       "      <td>0.004444</td>\n",
       "      <td>8</td>\n",
       "      <td>2</td>\n",
       "      <td>0</td>\n",
       "      <td>0</td>\n",
       "      <td>0.800000</td>\n",
       "    </tr>\n",
       "    <tr>\n",
       "      <th>LF_left_pain_anatomy_between</th>\n",
       "      <td>8</td>\n",
       "      <td>0.000000</td>\n",
       "      <td>0.000000</td>\n",
       "      <td>0.000000</td>\n",
       "      <td>0</td>\n",
       "      <td>0</td>\n",
       "      <td>0</td>\n",
       "      <td>0</td>\n",
       "      <td>NaN</td>\n",
       "    </tr>\n",
       "    <tr>\n",
       "      <th>LF_left_pain_multiple_anat</th>\n",
       "      <td>9</td>\n",
       "      <td>0.000000</td>\n",
       "      <td>0.000000</td>\n",
       "      <td>0.000000</td>\n",
       "      <td>0</td>\n",
       "      <td>0</td>\n",
       "      <td>0</td>\n",
       "      <td>0</td>\n",
       "      <td>NaN</td>\n",
       "    </tr>\n",
       "    <tr>\n",
       "      <th>LF_less_far_apart</th>\n",
       "      <td>10</td>\n",
       "      <td>0.231111</td>\n",
       "      <td>0.191111</td>\n",
       "      <td>0.004444</td>\n",
       "      <td>0</td>\n",
       "      <td>0</td>\n",
       "      <td>4</td>\n",
       "      <td>47</td>\n",
       "      <td>0.921569</td>\n",
       "    </tr>\n",
       "    <tr>\n",
       "      <th>LF_long_distance_left_pain</th>\n",
       "      <td>11</td>\n",
       "      <td>0.057778</td>\n",
       "      <td>0.031111</td>\n",
       "      <td>0.013333</td>\n",
       "      <td>6</td>\n",
       "      <td>7</td>\n",
       "      <td>0</td>\n",
       "      <td>0</td>\n",
       "      <td>0.461538</td>\n",
       "    </tr>\n",
       "    <tr>\n",
       "      <th>LF_misattached_entities</th>\n",
       "      <td>12</td>\n",
       "      <td>0.031111</td>\n",
       "      <td>0.031111</td>\n",
       "      <td>0.004444</td>\n",
       "      <td>0</td>\n",
       "      <td>0</td>\n",
       "      <td>0</td>\n",
       "      <td>7</td>\n",
       "      <td>1.000000</td>\n",
       "    </tr>\n",
       "    <tr>\n",
       "      <th>LF_misattached_entities2</th>\n",
       "      <td>13</td>\n",
       "      <td>0.071111</td>\n",
       "      <td>0.053333</td>\n",
       "      <td>0.000000</td>\n",
       "      <td>0</td>\n",
       "      <td>0</td>\n",
       "      <td>0</td>\n",
       "      <td>16</td>\n",
       "      <td>1.000000</td>\n",
       "    </tr>\n",
       "    <tr>\n",
       "      <th>LF_misattached_entities3</th>\n",
       "      <td>14</td>\n",
       "      <td>0.000000</td>\n",
       "      <td>0.000000</td>\n",
       "      <td>0.000000</td>\n",
       "      <td>0</td>\n",
       "      <td>0</td>\n",
       "      <td>0</td>\n",
       "      <td>0</td>\n",
       "      <td>NaN</td>\n",
       "    </tr>\n",
       "    <tr>\n",
       "      <th>LF_near_contiguous_left_pain</th>\n",
       "      <td>15</td>\n",
       "      <td>0.017778</td>\n",
       "      <td>0.017778</td>\n",
       "      <td>0.004444</td>\n",
       "      <td>1</td>\n",
       "      <td>3</td>\n",
       "      <td>0</td>\n",
       "      <td>0</td>\n",
       "      <td>0.250000</td>\n",
       "    </tr>\n",
       "    <tr>\n",
       "      <th>LF_near_contiguous_right_pain</th>\n",
       "      <td>16</td>\n",
       "      <td>0.017778</td>\n",
       "      <td>0.004444</td>\n",
       "      <td>0.000000</td>\n",
       "      <td>3</td>\n",
       "      <td>1</td>\n",
       "      <td>0</td>\n",
       "      <td>0</td>\n",
       "      <td>0.750000</td>\n",
       "    </tr>\n",
       "    <tr>\n",
       "      <th>LF_negated_term_between_entities</th>\n",
       "      <td>17</td>\n",
       "      <td>0.106667</td>\n",
       "      <td>0.106667</td>\n",
       "      <td>0.000000</td>\n",
       "      <td>0</td>\n",
       "      <td>0</td>\n",
       "      <td>0</td>\n",
       "      <td>23</td>\n",
       "      <td>1.000000</td>\n",
       "    </tr>\n",
       "    <tr>\n",
       "      <th>LF_negex_definite_negation_left</th>\n",
       "      <td>18</td>\n",
       "      <td>0.222222</td>\n",
       "      <td>0.115556</td>\n",
       "      <td>0.004444</td>\n",
       "      <td>0</td>\n",
       "      <td>0</td>\n",
       "      <td>1</td>\n",
       "      <td>48</td>\n",
       "      <td>0.979592</td>\n",
       "    </tr>\n",
       "    <tr>\n",
       "      <th>LF_negex_definite_negation_right</th>\n",
       "      <td>19</td>\n",
       "      <td>0.000000</td>\n",
       "      <td>0.000000</td>\n",
       "      <td>0.000000</td>\n",
       "      <td>0</td>\n",
       "      <td>0</td>\n",
       "      <td>0</td>\n",
       "      <td>0</td>\n",
       "      <td>NaN</td>\n",
       "    </tr>\n",
       "    <tr>\n",
       "      <th>LF_pain_between_entities</th>\n",
       "      <td>20</td>\n",
       "      <td>0.057778</td>\n",
       "      <td>0.035556</td>\n",
       "      <td>0.000000</td>\n",
       "      <td>0</td>\n",
       "      <td>0</td>\n",
       "      <td>0</td>\n",
       "      <td>13</td>\n",
       "      <td>1.000000</td>\n",
       "    </tr>\n",
       "    <tr>\n",
       "      <th>LF_pain_score_location</th>\n",
       "      <td>21</td>\n",
       "      <td>0.000000</td>\n",
       "      <td>0.000000</td>\n",
       "      <td>0.000000</td>\n",
       "      <td>0</td>\n",
       "      <td>0</td>\n",
       "      <td>0</td>\n",
       "      <td>0</td>\n",
       "      <td>NaN</td>\n",
       "    </tr>\n",
       "    <tr>\n",
       "      <th>LF_past_medical_history</th>\n",
       "      <td>22</td>\n",
       "      <td>0.035556</td>\n",
       "      <td>0.026667</td>\n",
       "      <td>0.013333</td>\n",
       "      <td>0</td>\n",
       "      <td>0</td>\n",
       "      <td>3</td>\n",
       "      <td>5</td>\n",
       "      <td>0.625000</td>\n",
       "    </tr>\n",
       "    <tr>\n",
       "      <th>LF_radiograph_view</th>\n",
       "      <td>23</td>\n",
       "      <td>0.000000</td>\n",
       "      <td>0.000000</td>\n",
       "      <td>0.000000</td>\n",
       "      <td>0</td>\n",
       "      <td>0</td>\n",
       "      <td>0</td>\n",
       "      <td>0</td>\n",
       "      <td>NaN</td>\n",
       "    </tr>\n",
       "    <tr>\n",
       "      <th>LF_warning_signs_hypothetical</th>\n",
       "      <td>24</td>\n",
       "      <td>0.000000</td>\n",
       "      <td>0.000000</td>\n",
       "      <td>0.000000</td>\n",
       "      <td>0</td>\n",
       "      <td>0</td>\n",
       "      <td>0</td>\n",
       "      <td>0</td>\n",
       "      <td>NaN</td>\n",
       "    </tr>\n",
       "  </tbody>\n",
       "</table>\n",
       "</div>"
      ],
      "text/plain": [
       "                                   j  Coverage  Overlaps  Conflicts  TP  FP  \\\n",
       "LF_candidate_in_checklist          0  0.000000  0.000000   0.000000   0   0   \n",
       "LF_candidate_in_list               1  0.275556  0.275556   0.057778   0   0   \n",
       "LF_complains_of                    2  0.022222  0.022222   0.000000   4   1   \n",
       "LF_contiguous_left_pain            3  0.004444  0.004444   0.004444   1   0   \n",
       "LF_contiguous_right_pain           4  0.364444  0.111111   0.066667  53  29   \n",
       "LF_date_between                    5  0.000000  0.000000   0.000000   0   0   \n",
       "LF_far_apart                       6  0.115556  0.115556   0.000000   0   0   \n",
       "LF_history_of_present_illness      7  0.044444  0.040000   0.004444   8   2   \n",
       "LF_left_pain_anatomy_between       8  0.000000  0.000000   0.000000   0   0   \n",
       "LF_left_pain_multiple_anat         9  0.000000  0.000000   0.000000   0   0   \n",
       "LF_less_far_apart                 10  0.231111  0.191111   0.004444   0   0   \n",
       "LF_long_distance_left_pain        11  0.057778  0.031111   0.013333   6   7   \n",
       "LF_misattached_entities           12  0.031111  0.031111   0.004444   0   0   \n",
       "LF_misattached_entities2          13  0.071111  0.053333   0.000000   0   0   \n",
       "LF_misattached_entities3          14  0.000000  0.000000   0.000000   0   0   \n",
       "LF_near_contiguous_left_pain      15  0.017778  0.017778   0.004444   1   3   \n",
       "LF_near_contiguous_right_pain     16  0.017778  0.004444   0.000000   3   1   \n",
       "LF_negated_term_between_entities  17  0.106667  0.106667   0.000000   0   0   \n",
       "LF_negex_definite_negation_left   18  0.222222  0.115556   0.004444   0   0   \n",
       "LF_negex_definite_negation_right  19  0.000000  0.000000   0.000000   0   0   \n",
       "LF_pain_between_entities          20  0.057778  0.035556   0.000000   0   0   \n",
       "LF_pain_score_location            21  0.000000  0.000000   0.000000   0   0   \n",
       "LF_past_medical_history           22  0.035556  0.026667   0.013333   0   0   \n",
       "LF_radiograph_view                23  0.000000  0.000000   0.000000   0   0   \n",
       "LF_warning_signs_hypothetical     24  0.000000  0.000000   0.000000   0   0   \n",
       "\n",
       "                                  FN  TN  Empirical Acc.  \n",
       "LF_candidate_in_checklist          0   0             NaN  \n",
       "LF_candidate_in_list               5  57        0.919355  \n",
       "LF_complains_of                    0   0        0.800000  \n",
       "LF_contiguous_left_pain            0   0        1.000000  \n",
       "LF_contiguous_right_pain           0   0        0.646341  \n",
       "LF_date_between                    0   0             NaN  \n",
       "LF_far_apart                       0  25        1.000000  \n",
       "LF_history_of_present_illness      0   0        0.800000  \n",
       "LF_left_pain_anatomy_between       0   0             NaN  \n",
       "LF_left_pain_multiple_anat         0   0             NaN  \n",
       "LF_less_far_apart                  4  47        0.921569  \n",
       "LF_long_distance_left_pain         0   0        0.461538  \n",
       "LF_misattached_entities            0   7        1.000000  \n",
       "LF_misattached_entities2           0  16        1.000000  \n",
       "LF_misattached_entities3           0   0             NaN  \n",
       "LF_near_contiguous_left_pain       0   0        0.250000  \n",
       "LF_near_contiguous_right_pain      0   0        0.750000  \n",
       "LF_negated_term_between_entities   0  23        1.000000  \n",
       "LF_negex_definite_negation_left    1  48        0.979592  \n",
       "LF_negex_definite_negation_right   0   0             NaN  \n",
       "LF_pain_between_entities           0  13        1.000000  \n",
       "LF_pain_score_location             0   0             NaN  \n",
       "LF_past_medical_history            3   5        0.625000  \n",
       "LF_radiograph_view                 0   0             NaN  \n",
       "LF_warning_signs_hypothetical      0   0             NaN  "
      ]
     },
     "execution_count": 21,
     "metadata": {},
     "output_type": "execute_result"
    }
   ],
   "source": [
    "L_train.lf_stats(session, labels=L_gold_train.toarray().ravel())"
   ]
  },
  {
   "cell_type": "markdown",
   "metadata": {
    "deletable": true,
    "editable": true
   },
   "source": [
    "## Training the Generative Model\n",
    "Grid search for tuning."
   ]
  },
  {
   "cell_type": "code",
   "execution_count": 22,
   "metadata": {
    "collapsed": false,
    "deletable": true,
    "editable": true
   },
   "outputs": [
    {
     "name": "stdout",
     "output_type": "stream",
     "text": [
      "Initialized RandomSearch search of size 5. Search space size = 12.\n",
      "============================================================\n",
      "[1] Testing step_size = 4.44e-05, decay = 9.00e-01, epochs = 500, reg_param = 1.00e-02, reg_type = 1, LF_acc_prior_weight_default = 8.00e-01\n",
      "============================================================\n",
      "Inferred cardinality: 2\n",
      "[GenerativeModel] F1 Score: 0.775510204082\n",
      "[GenerativeModel] Model saved as <GenerativeModel_0>.\n",
      "============================================================\n",
      "[2] Testing step_size = 4.44e-05, decay = 9.00e-01, epochs = 500, reg_param = 1.00e-03, reg_type = 1, LF_acc_prior_weight_default = 8.00e-01\n",
      "============================================================\n",
      "Inferred cardinality: 2\n",
      "[GenerativeModel] F1 Score: 0.714285714286\n",
      "============================================================\n",
      "[3] Testing step_size = 4.44e-05, decay = 9.00e-01, epochs = 500, reg_param = 1.00e-02, reg_type = 1, LF_acc_prior_weight_default = 8.00e-01\n",
      "============================================================\n",
      "Inferred cardinality: 2\n",
      "[GenerativeModel] F1 Score: 0.714285714286\n",
      "============================================================\n",
      "[4] Testing step_size = 4.44e-05, decay = 9.00e-01, epochs = 200, reg_param = 1.00e-03, reg_type = 1, LF_acc_prior_weight_default = 1.00e+00\n",
      "============================================================\n",
      "Inferred cardinality: 2\n",
      "[GenerativeModel] F1 Score: 0.775510204082\n",
      "============================================================\n",
      "[5] Testing step_size = 4.44e-05, decay = 9.00e-01, epochs = 200, reg_param = 1.00e-02, reg_type = 1, LF_acc_prior_weight_default = 1.00e+00\n",
      "============================================================\n",
      "Inferred cardinality: 2\n",
      "[GenerativeModel] F1 Score: 0.714285714286\n",
      "[GenerativeModel] Model <GenerativeModel_0> loaded.\n",
      "CPU times: user 34.1 s, sys: 170 ms, total: 34.3 s\n",
      "Wall time: 34.4 s\n"
     ]
    },
    {
     "data": {
      "text/html": [
       "<div>\n",
       "<table border=\"1\" class=\"dataframe\">\n",
       "  <thead>\n",
       "    <tr style=\"text-align: right;\">\n",
       "      <th></th>\n",
       "      <th>step_size</th>\n",
       "      <th>decay</th>\n",
       "      <th>epochs</th>\n",
       "      <th>reg_param</th>\n",
       "      <th>reg_type</th>\n",
       "      <th>LF_acc_prior_weight_default</th>\n",
       "      <th>Prec.</th>\n",
       "      <th>Rec.</th>\n",
       "      <th>F1</th>\n",
       "    </tr>\n",
       "  </thead>\n",
       "  <tbody>\n",
       "    <tr>\n",
       "      <th>0</th>\n",
       "      <td>0.000044</td>\n",
       "      <td>0.9</td>\n",
       "      <td>500</td>\n",
       "      <td>0.010</td>\n",
       "      <td>1</td>\n",
       "      <td>0.8</td>\n",
       "      <td>0.760</td>\n",
       "      <td>0.791667</td>\n",
       "      <td>0.775510</td>\n",
       "    </tr>\n",
       "    <tr>\n",
       "      <th>3</th>\n",
       "      <td>0.000044</td>\n",
       "      <td>0.9</td>\n",
       "      <td>200</td>\n",
       "      <td>0.001</td>\n",
       "      <td>1</td>\n",
       "      <td>1.0</td>\n",
       "      <td>0.760</td>\n",
       "      <td>0.791667</td>\n",
       "      <td>0.775510</td>\n",
       "    </tr>\n",
       "    <tr>\n",
       "      <th>1</th>\n",
       "      <td>0.000044</td>\n",
       "      <td>0.9</td>\n",
       "      <td>500</td>\n",
       "      <td>0.001</td>\n",
       "      <td>1</td>\n",
       "      <td>0.8</td>\n",
       "      <td>0.625</td>\n",
       "      <td>0.833333</td>\n",
       "      <td>0.714286</td>\n",
       "    </tr>\n",
       "    <tr>\n",
       "      <th>2</th>\n",
       "      <td>0.000044</td>\n",
       "      <td>0.9</td>\n",
       "      <td>500</td>\n",
       "      <td>0.010</td>\n",
       "      <td>1</td>\n",
       "      <td>0.8</td>\n",
       "      <td>0.625</td>\n",
       "      <td>0.833333</td>\n",
       "      <td>0.714286</td>\n",
       "    </tr>\n",
       "    <tr>\n",
       "      <th>4</th>\n",
       "      <td>0.000044</td>\n",
       "      <td>0.9</td>\n",
       "      <td>200</td>\n",
       "      <td>0.010</td>\n",
       "      <td>1</td>\n",
       "      <td>1.0</td>\n",
       "      <td>0.625</td>\n",
       "      <td>0.833333</td>\n",
       "      <td>0.714286</td>\n",
       "    </tr>\n",
       "  </tbody>\n",
       "</table>\n",
       "</div>"
      ],
      "text/plain": [
       "   step_size  decay  epochs  reg_param  reg_type  LF_acc_prior_weight_default  \\\n",
       "0   0.000044    0.9     500      0.010         1                          0.8   \n",
       "3   0.000044    0.9     200      0.001         1                          1.0   \n",
       "1   0.000044    0.9     500      0.001         1                          0.8   \n",
       "2   0.000044    0.9     500      0.010         1                          0.8   \n",
       "4   0.000044    0.9     200      0.010         1                          1.0   \n",
       "\n",
       "   Prec.      Rec.        F1  \n",
       "0  0.760  0.791667  0.775510  \n",
       "3  0.760  0.791667  0.775510  \n",
       "1  0.625  0.833333  0.714286  \n",
       "2  0.625  0.833333  0.714286  \n",
       "4  0.625  0.833333  0.714286  "
      ]
     },
     "execution_count": 22,
     "metadata": {},
     "output_type": "execute_result"
    }
   ],
   "source": [
    "from snorkel.learning import GenerativeModel\n",
    "from snorkel.learning import RandomSearch, ListParameter, RangeParameter\n",
    "\n",
    "# use grid search to optimize the generative model\n",
    "step_size_param     = ListParameter('step_size', [0.01 / L_train.shape[0]])\n",
    "decay_param         = ListParameter('decay', [0.9])\n",
    "epochs_param        = ListParameter('epochs', [200, 500])\n",
    "reg_param           = ListParameter('reg_param', [0.001, 0.01])\n",
    "reg_type            = ListParameter('reg_type', [1])\n",
    "prior_param         = ListParameter('LF_acc_prior_weight_default', [1.0, 0.9, 0.8])\n",
    "\n",
    "# search for the best model\n",
    "param_grid = [step_size_param, decay_param, epochs_param, reg_param, reg_type, prior_param]\n",
    "searcher = RandomSearch(GenerativeModel, param_grid, L_train, n=5, lf_propensity=True)\n",
    "%time gen_model, run_stats = searcher.fit(L_dev, L_gold_dev, deps=set())\n",
    "\n",
    "run_stats"
   ]
  },
  {
   "cell_type": "code",
   "execution_count": 42,
   "metadata": {
    "collapsed": false,
    "deletable": true,
    "editable": true
   },
   "outputs": [
    {
     "name": "stdout",
     "output_type": "stream",
     "text": [
      "Saved 225 marginals\n"
     ]
    }
   ],
   "source": [
    "from snorkel.annotations import load_marginals, save_marginals\n",
    "\n",
    "train_marginals = gen_model.marginals(L_train)\n",
    "save_marginals(session, L_train, train_marginals, training=True)"
   ]
  },
  {
   "cell_type": "markdown",
   "metadata": {
    "deletable": true,
    "editable": true
   },
   "source": [
    "###  Labeling Function Accuracy Weights\n",
    "These are the accuracy factor weights learned during training"
   ]
  },
  {
   "cell_type": "code",
   "execution_count": 27,
   "metadata": {
    "collapsed": false,
    "deletable": true,
    "editable": true
   },
   "outputs": [
    {
     "data": {
      "text/html": [
       "<div>\n",
       "<table border=\"1\" class=\"dataframe\">\n",
       "  <thead>\n",
       "    <tr style=\"text-align: right;\">\n",
       "      <th></th>\n",
       "      <th>Acc. Factor Weight</th>\n",
       "      <th>LF-NAME</th>\n",
       "    </tr>\n",
       "  </thead>\n",
       "  <tbody>\n",
       "    <tr>\n",
       "      <th>0</th>\n",
       "      <td>0.705487</td>\n",
       "      <td>LF_candidate_in_checklist</td>\n",
       "    </tr>\n",
       "    <tr>\n",
       "      <th>1</th>\n",
       "      <td>0.748036</td>\n",
       "      <td>LF_candidate_in_list</td>\n",
       "    </tr>\n",
       "    <tr>\n",
       "      <th>2</th>\n",
       "      <td>0.711785</td>\n",
       "      <td>LF_complains_of</td>\n",
       "    </tr>\n",
       "    <tr>\n",
       "      <th>3</th>\n",
       "      <td>0.709779</td>\n",
       "      <td>LF_contiguous_left_pain</td>\n",
       "    </tr>\n",
       "    <tr>\n",
       "      <th>4</th>\n",
       "      <td>0.744700</td>\n",
       "      <td>LF_contiguous_right_pain</td>\n",
       "    </tr>\n",
       "    <tr>\n",
       "      <th>5</th>\n",
       "      <td>0.711735</td>\n",
       "      <td>LF_date_between</td>\n",
       "    </tr>\n",
       "    <tr>\n",
       "      <th>6</th>\n",
       "      <td>0.730322</td>\n",
       "      <td>LF_far_apart</td>\n",
       "    </tr>\n",
       "    <tr>\n",
       "      <th>7</th>\n",
       "      <td>0.716052</td>\n",
       "      <td>LF_history_of_present_illness</td>\n",
       "    </tr>\n",
       "    <tr>\n",
       "      <th>8</th>\n",
       "      <td>0.710122</td>\n",
       "      <td>LF_left_pain_anatomy_between</td>\n",
       "    </tr>\n",
       "    <tr>\n",
       "      <th>9</th>\n",
       "      <td>0.707278</td>\n",
       "      <td>LF_left_pain_multiple_anat</td>\n",
       "    </tr>\n",
       "    <tr>\n",
       "      <th>10</th>\n",
       "      <td>0.746967</td>\n",
       "      <td>LF_less_far_apart</td>\n",
       "    </tr>\n",
       "    <tr>\n",
       "      <th>11</th>\n",
       "      <td>0.715877</td>\n",
       "      <td>LF_long_distance_left_pain</td>\n",
       "    </tr>\n",
       "    <tr>\n",
       "      <th>12</th>\n",
       "      <td>0.713185</td>\n",
       "      <td>LF_misattached_entities</td>\n",
       "    </tr>\n",
       "    <tr>\n",
       "      <th>13</th>\n",
       "      <td>0.722262</td>\n",
       "      <td>LF_misattached_entities2</td>\n",
       "    </tr>\n",
       "    <tr>\n",
       "      <th>14</th>\n",
       "      <td>0.710607</td>\n",
       "      <td>LF_misattached_entities3</td>\n",
       "    </tr>\n",
       "    <tr>\n",
       "      <th>15</th>\n",
       "      <td>0.711178</td>\n",
       "      <td>LF_near_contiguous_left_pain</td>\n",
       "    </tr>\n",
       "    <tr>\n",
       "      <th>16</th>\n",
       "      <td>0.711112</td>\n",
       "      <td>LF_near_contiguous_right_pain</td>\n",
       "    </tr>\n",
       "    <tr>\n",
       "      <th>17</th>\n",
       "      <td>0.729636</td>\n",
       "      <td>LF_negated_term_between_entities</td>\n",
       "    </tr>\n",
       "    <tr>\n",
       "      <th>18</th>\n",
       "      <td>0.742006</td>\n",
       "      <td>LF_negex_definite_negation_left</td>\n",
       "    </tr>\n",
       "    <tr>\n",
       "      <th>19</th>\n",
       "      <td>0.708729</td>\n",
       "      <td>LF_negex_definite_negation_right</td>\n",
       "    </tr>\n",
       "    <tr>\n",
       "      <th>20</th>\n",
       "      <td>0.718099</td>\n",
       "      <td>LF_pain_between_entities</td>\n",
       "    </tr>\n",
       "    <tr>\n",
       "      <th>21</th>\n",
       "      <td>0.708227</td>\n",
       "      <td>LF_pain_score_location</td>\n",
       "    </tr>\n",
       "    <tr>\n",
       "      <th>22</th>\n",
       "      <td>0.713901</td>\n",
       "      <td>LF_past_medical_history</td>\n",
       "    </tr>\n",
       "    <tr>\n",
       "      <th>23</th>\n",
       "      <td>0.708909</td>\n",
       "      <td>LF_radiograph_view</td>\n",
       "    </tr>\n",
       "    <tr>\n",
       "      <th>24</th>\n",
       "      <td>0.709639</td>\n",
       "      <td>LF_warning_signs_hypothetical</td>\n",
       "    </tr>\n",
       "  </tbody>\n",
       "</table>\n",
       "</div>"
      ],
      "text/plain": [
       "    Acc. Factor Weight                           LF-NAME\n",
       "0             0.705487         LF_candidate_in_checklist\n",
       "1             0.748036              LF_candidate_in_list\n",
       "2             0.711785                   LF_complains_of\n",
       "3             0.709779           LF_contiguous_left_pain\n",
       "4             0.744700          LF_contiguous_right_pain\n",
       "5             0.711735                   LF_date_between\n",
       "6             0.730322                      LF_far_apart\n",
       "7             0.716052     LF_history_of_present_illness\n",
       "8             0.710122      LF_left_pain_anatomy_between\n",
       "9             0.707278        LF_left_pain_multiple_anat\n",
       "10            0.746967                 LF_less_far_apart\n",
       "11            0.715877        LF_long_distance_left_pain\n",
       "12            0.713185           LF_misattached_entities\n",
       "13            0.722262          LF_misattached_entities2\n",
       "14            0.710607          LF_misattached_entities3\n",
       "15            0.711178      LF_near_contiguous_left_pain\n",
       "16            0.711112     LF_near_contiguous_right_pain\n",
       "17            0.729636  LF_negated_term_between_entities\n",
       "18            0.742006   LF_negex_definite_negation_left\n",
       "19            0.708729  LF_negex_definite_negation_right\n",
       "20            0.718099          LF_pain_between_entities\n",
       "21            0.708227            LF_pain_score_location\n",
       "22            0.713901           LF_past_medical_history\n",
       "23            0.708909                LF_radiograph_view\n",
       "24            0.709639     LF_warning_signs_hypothetical"
      ]
     },
     "execution_count": 27,
     "metadata": {},
     "output_type": "execute_result"
    }
   ],
   "source": [
    "lf_accs = []\n",
    "for name,acc in zip([lf.__name__ for lf in lfs], gen_model.weights.lf_accuracy):\n",
    "    lf_accs.append({\"LF-NAME\":name, \"Acc. Factor Weight\":acc})\n",
    "pd.DataFrame(lf_accs)"
   ]
  },
  {
   "cell_type": "code",
   "execution_count": 28,
   "metadata": {
    "collapsed": false,
    "deletable": true,
    "editable": true
   },
   "outputs": [
    {
     "data": {
      "text/plain": [
       "array([<matplotlib.axes._subplots.AxesSubplot object at 0x118101bd0>],\n",
       "      dtype=object)"
      ]
     },
     "execution_count": 28,
     "metadata": {},
     "output_type": "execute_result"
    },
    {
     "data": {
      "image/png": "[encoded data removed]",
      "text/plain": [
       "<matplotlib.figure.Figure at 0x11812c490>"
      ]
     },
     "metadata": {},
     "output_type": "display_data"
    }
   ],
   "source": [
    "import matplotlib.pyplot as plt\n",
    "\n",
    "fig, ax = plt.subplots(figsize=(18, 6))\n",
    "df = pd.DataFrame(data=train_marginals, columns=['marginals'])\n",
    "pd.DataFrame.hist(df,range=(0.0, 1.0),bins=20, ax=ax)"
   ]
  },
  {
   "cell_type": "code",
   "execution_count": 29,
   "metadata": {
    "collapsed": true,
    "deletable": true,
    "editable": true
   },
   "outputs": [],
   "source": [
    "from sklearn.metrics import f1_score, precision_score, recall_score, accuracy_score\n",
    "\n",
    "def majority_vote(labels, gold_labels, title=\"Majority Vote\"):\n",
    "    \n",
    "    mv = np.sum(labels,axis=1)\n",
    "    mv[mv > 0] = 1\n",
    "    mv[mv <= 0] = -1\n",
    "    \n",
    "    y_pred = np.ravel(mv)\n",
    "    y_true = gold_labels.toarray()\n",
    "    \n",
    "    print \"=\" * 40\n",
    "    print title\n",
    "    print \"=\" * 40\n",
    "    pos, neg = list(gold_labels).count(1),float(list(gold_labels).count(-1))\n",
    "    print \"pos/neg   {:.2f} {:.2f}\".format(pos/(pos+neg), neg/(pos+neg))\n",
    "    print \"precision {:.2f}\".format( 100 * precision_score(y_true, y_pred) )\n",
    "    print \"recall    {:.2f}\".format( 100 * recall_score(y_true, y_pred) )\n",
    "    print \"f1        {:.2f}\".format( 100 * f1_score(y_true, y_pred) )\n",
    "    print \"-\" * 40\n",
    "\n",
    "def score(marginals, gold_labels, title=\"\"):\n",
    "    y_pred = [1 if marginals[i] > 0.5 else -1 for i in range(0,len(marginals))]\n",
    "    y_true = gold_labels.toarray()\n",
    "    \n",
    "    print \"=\" * 40\n",
    "    print title\n",
    "    print \"=\" * 40\n",
    "    pos,neg = list(gold_labels).count(1),float(list(gold_labels).count(-1))\n",
    "    print \"pos/neg   {:.2f} {:.2f}\".format(pos/(pos+neg), neg/(pos+neg))\n",
    "    print \"precision {:.2f}\".format( 100 * precision_score(y_true, y_pred) )\n",
    "    print \"recall    {:.2f}\".format( 100 * recall_score(y_true, y_pred) )\n",
    "    print \"f1        {:.2f}\".format( 100 * f1_score(y_true, y_pred) )\n",
    "    print \"-\" * 40"
   ]
  },
  {
   "cell_type": "markdown",
   "metadata": {
    "deletable": true,
    "editable": true
   },
   "source": [
    "### Training Set: Majority Vote vs. Generative Model\n",
    "\n",
    "We should see a slight boost on overall F1 performance when using the generative model. Generally, we train a small amount of precision for a big boost in recall. Even when using small amounts of data, such as just ShARe/CLEF notes, we see performance benefits:\n",
    "\n",
    "**Majority Vote**\n",
    "```\n",
    "precision 69.05\n",
    "recall    81.69\n",
    "f1        74.84\n",
    "```\n",
    "**Generative Model**\n",
    "```\n",
    "precision 68.97\n",
    "recall    84.51\n",
    "f1        75.95\n",
    "```"
   ]
  },
  {
   "cell_type": "code",
   "execution_count": 33,
   "metadata": {
    "collapsed": false,
    "deletable": true,
    "editable": true
   },
   "outputs": [
    {
     "name": "stdout",
     "output_type": "stream",
     "text": [
      "========================================\n",
      "Majority Vote\n",
      "========================================\n",
      "pos/neg   0.32 0.68\n",
      "precision 69.05\n",
      "recall    81.69\n",
      "f1        74.84\n",
      "----------------------------------------\n",
      "========================================\n",
      "Generative Model\n",
      "========================================\n",
      "pos/neg   0.32 0.68\n",
      "precision 68.97\n",
      "recall    84.51\n",
      "f1        75.95\n",
      "----------------------------------------\n"
     ]
    }
   ],
   "source": [
    "def mv_vs_gen(marginals, L_mat, gold):\n",
    "    majority_vote(L_mat, gold)\n",
    "    score(marginals, gold, \"Generative Model\")\n",
    "    \n",
    "mv_vs_gen(train_marginals, L_train, L_gold_train)"
   ]
  },
  {
   "cell_type": "markdown",
   "metadata": {
    "deletable": true,
    "editable": true
   },
   "source": [
    "### Dev Set: Majority Vote"
   ]
  },
  {
   "cell_type": "code",
   "execution_count": 34,
   "metadata": {
    "collapsed": false,
    "deletable": true,
    "editable": true
   },
   "outputs": [
    {
     "name": "stdout",
     "output_type": "stream",
     "text": [
      "========================================\n",
      "Majority Vote\n",
      "========================================\n",
      "pos/neg   0.38 0.62\n",
      "precision 76.00\n",
      "recall    79.17\n",
      "f1        77.55\n",
      "----------------------------------------\n"
     ]
    }
   ],
   "source": [
    "majority_vote(L_dev, L_gold_dev)"
   ]
  },
  {
   "cell_type": "markdown",
   "metadata": {
    "deletable": true,
    "editable": true
   },
   "source": [
    "### Test Set: Majority Vote"
   ]
  },
  {
   "cell_type": "code",
   "execution_count": 35,
   "metadata": {
    "collapsed": false,
    "deletable": true,
    "editable": true
   },
   "outputs": [
    {
     "name": "stdout",
     "output_type": "stream",
     "text": [
      "========================================\n",
      "Majority Vote\n",
      "========================================\n",
      "pos/neg   0.27 0.73\n",
      "precision 68.42\n",
      "recall    84.78\n",
      "f1        75.73\n",
      "----------------------------------------\n"
     ]
    }
   ],
   "source": [
    "majority_vote(L_test, L_gold_test)"
   ]
  },
  {
   "cell_type": "code",
   "execution_count": null,
   "metadata": {
    "collapsed": true
   },
   "outputs": [],
   "source": []
  }
 ],
 "metadata": {
  "kernelspec": {
   "display_name": "Python 2",
   "language": "python",
   "name": "python2"
  },
  "language_info": {
   "codemirror_mode": {
    "name": "ipython",
    "version": 2
   },
   "file_extension": ".py",
   "mimetype": "text/x-python",
   "name": "python",
   "nbconvert_exporter": "python",
   "pygments_lexer": "ipython2",
   "version": "2.7.13"
  }
 },
 "nbformat": 4,
 "nbformat_minor": 1
}
