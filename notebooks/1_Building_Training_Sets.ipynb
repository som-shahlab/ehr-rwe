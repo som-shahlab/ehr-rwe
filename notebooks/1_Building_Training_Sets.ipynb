{
 "cells": [
  {
   "cell_type": "markdown",
   "metadata": {},
   "source": [
    "# Building Training Sets with Weak Supervision\n",
    "In this tutorial, we'll build a `Pain-At` relation training set using weakly superivsed methods. This notebook covers: \n",
    "- Loading pre-processed documents\n",
    "- Generating relational candidates \n",
    "- Applying labeling functions\n",
    "- Training a Snorkel Label Model"
   ]
  },
  {
   "cell_type": "code",
   "execution_count": 1,
   "metadata": {},
   "outputs": [],
   "source": [
    "%load_ext autoreload\n",
    "%autoreload 2\n",
    "%matplotlib inline\n",
    "\n",
    "import sys\n",
    "sys.path.insert(0,'../../ehr-rwe/')\n",
    "\n",
    "import glob\n",
    "import collections\n",
    "import numpy as np\n",
    "import pandas as pd\n"
   ]
  },
  {
   "cell_type": "markdown",
   "metadata": {},
   "source": [
    "## 1. Load MIMIC-III Documents\n",
    "\n",
    "This notebook assumes documents have already been preprocessed and dumped into JSON format. We created a small annotated dataset using MIMIC-III patient notes. See the `XXXX.ipynb` notebook for instructions on creating the required JSON files \n",
    "\n",
    "You will need access to MIMIC-III data to run this notebook using our tutorial annotations.  See https://mimic.physionet.org/gettingstarted/access/\n",
    "\n",
    "See `preprocessing/README.md` for details."
   ]
  },
  {
   "cell_type": "code",
   "execution_count": 2,
   "metadata": {},
   "outputs": [
    {
     "name": "stdout",
     "output_type": "stream",
     "text": [
      "Loaded 55 documents\n",
      "Loaded 1322 documents\n"
     ]
    }
   ],
   "source": [
    "from rwe import dataloader\n",
    "\n",
    "inputdir = '/Users/fries/Desktop/foobar/output/'\n",
    " \n",
    "corpus = [\n",
    "    dataloader([f'{inputdir}/mimic_gold.json']), \n",
    "    dataloader([f'{inputdir}/mimic_unlabeled.json'])\n",
    "]\n",
    "\n",
    "for split in corpus:\n",
    "    print(f'Loaded {len(split)} documents')\n"
   ]
  },
  {
   "cell_type": "markdown",
   "metadata": {},
   "source": [
    "## 2. Generate Candidates\n",
    "\n",
    "This is an example pipeline for generating `Pain-At` relation candidates. Relations are defined as a tuple $k$ entity spans. For simplicity's sake, we consider binary relations between all `Anatomy` and `Pain` entity pairs found within the same sentence. Entities can be tagged using a clinical named entity recognition (NER) model if available. Here we use a dictionary-based method to tag our initial `Anatomy` and `Pain` entities. \n",
    "\n",
    "### Clinical Text Markup\n",
    "When writing labeling functions, it's conveinant to have access to document markup and other metadata. For example, we might want to know what document section we are currently in (e.g., Past Medical History) or if we have temporal information above an event, such as a data of occurence, we might want to incorproate that information into our labeling heuristics. \n",
    "\n",
    "### Timing Benchmarks \n",
    "\n",
    "- 50,000 MIMIC-III documents\n",
    "- 4 core MacBook Pro 2.5Ghz mid-2015\n",
    "\n",
    "| N Documents   | N Cores | Time |\n",
    "|---------------|---------|----------------|\n",
    "| 299           | 4       | 17 seconds |\n",
    "| 10,000        | 4       | 4 minutes  |\n"
   ]
  },
  {
   "cell_type": "code",
   "execution_count": 3,
   "metadata": {},
   "outputs": [],
   "source": [
    "from rwe.utils import load_dict\n",
    "from rwe.labelers.taggers import (\n",
    "    ResetTags, RelationTagger, \n",
    "    DictionaryTagger, NegExTagger, HypotheticalTagger, HistoricalTagger,\n",
    "    SectionHeaderTagger, ParentSectionTagger,\n",
    "    DocTimeTagger, MappedDocTimeTagger, \n",
    "    Timex3Tagger, Timex3NormalizerTagger, TimeDeltaTagger,\n",
    ")\n",
    "\n",
    "dict_pain = load_dict('../data/dicts/pain/pain.txt')\n",
    "dict_anat = load_dict('../data/dicts/anatomy/anat.bz2')\n",
    "\n",
    "target_entities = ['pain']\n",
    "\n",
    "# NOTE: Pipelines are *order dependant* as normalizers and attribute taggers assume\n",
    "# the existence of certain concept targets (e.g., Timex3Normalizer requires timex3 entities)\n",
    "pipeline = {\n",
    "    # 1. Clear any previous runs\n",
    "    \"reset\"        : ResetTags(),\n",
    "    \n",
    "    # 2. Clinical concepts\n",
    "    \"concepts\"  : DictionaryTagger({'pain': dict_pain, 'anatomy': dict_anat}),\n",
    "    \"headers\"   : SectionHeaderTagger(),\n",
    "    \"timex3\"    : Timex3Tagger(),\n",
    "    \n",
    "    # 3. Normalize datetimes\n",
    "    \"doctimes\"  : DocTimeTagger(prop='CHARTDATE'),\n",
    "    \"normalize\" : Timex3NormalizerTagger(),\n",
    "    \n",
    "    # 4. Concept attributes\n",
    "    \"section\"      : ParentSectionTagger(targets=target_entities),\n",
    "    \"tdelta\"       : TimeDeltaTagger(targets=target_entities),\n",
    "    \"negation\"     : NegExTagger(targets=target_entities, data_root=\"../data/dicts/negex/\"),\n",
    "    \"hypothetical\" : HypotheticalTagger(targets=target_entities),\n",
    "    'historical'   : HistoricalTagger(targets=target_entities),\n",
    "    \n",
    "    # 5. Extract relation candidates\n",
    "    \"pain-at\"      : RelationTagger('pain-at', ('pain', 'anatomy'))\n",
    "}\n"
   ]
  },
  {
   "cell_type": "code",
   "execution_count": 4,
   "metadata": {},
   "outputs": [
    {
     "name": "stdout",
     "output_type": "stream",
     "text": [
      "auto block size=345\n",
      "Partitioned into 4 blocks, [342 345] sizes\n",
      "CPU times: user 2.36 s, sys: 384 ms, total: 2.74 s\n",
      "Wall time: 1min 3s\n"
     ]
    }
   ],
   "source": [
    "%%time\n",
    "from rwe.labelers import TaggerPipelineServer\n",
    "\n",
    "tagger = TaggerPipelineServer(num_workers=4)\n",
    "documents = tagger.apply(pipeline, corpus)\n"
   ]
  },
  {
   "cell_type": "code",
   "execution_count": 68,
   "metadata": {},
   "outputs": [],
   "source": [
    "from rwe.utils import build_candidate_set\n",
    "\n",
    "Xs = [\n",
    "    build_candidate_set(documents[0], \"pain-at\"),\n",
    "    build_candidate_set(documents[1], \"pain-at\")\n",
    "]\n"
   ]
  },
  {
   "cell_type": "markdown",
   "metadata": {},
   "source": [
    "### Load Gold Labeled Data\n",
    "We have provided gold standard files annotated in BRAT."
   ]
  },
  {
   "cell_type": "code",
   "execution_count": 69,
   "metadata": {},
   "outputs": [
    {
     "name": "stdout",
     "output_type": "stream",
     "text": [
      "==================================================\n",
      "ANNOTATOR SUMMARY\n",
      "==================================================\n",
      "-------------------------\n",
      "jason\n",
      "-------------------------\n",
      "ENTITY              962\n",
      " - Concept          962\n",
      "                         \n",
      "RELATION            182\n",
      " - X-at             182\n",
      "                         \n",
      "-------------------------\n",
      "alison\n",
      "-------------------------\n",
      "ENTITY              961\n",
      " - Concept          961\n",
      "                         \n",
      "RELATION            179\n",
      " - X-at             179\n",
      "                         \n",
      "Kappa Agreement (method=randolph)\n",
      "OVERALL        (n=539): 0.952\n",
      "X-at           (n=184): 0.924\n"
     ]
    }
   ],
   "source": [
    "from rwe.contrib.brat import *\n",
    "\n",
    "inputdir = \"/Users/fries/Desktop/npj-subset/v2/\"\n",
    "\n",
    "gold = BratAnnotations(inputdir)\n",
    "gold.annotator_summary()\n",
    "gold.annotator_agreement(ignore_types=['Concept'], relations_only=True)"
   ]
  },
  {
   "cell_type": "code",
   "execution_count": 70,
   "metadata": {},
   "outputs": [
    {
     "name": "stdout",
     "output_type": "stream",
     "text": [
      "146\n"
     ]
    }
   ],
   "source": [
    "# we are only considering pain-at relations for this tutorial, so let's filter the gold data to only pain mentions\n",
    "annos = gold.aggregate_raters(ignore_types=['Concept'], relations_only=True)\n",
    "\n",
    "pain_terms = {'pain','tenderness','discomfort','tender', 'painful'}\n",
    "\n",
    "Ys_brat = {}\n",
    "relations = [x for x in annos if x.type == 'X-at']\n",
    "for x in relations:\n",
    "    if pain_terms.intersection([a.text for a in x.args]):\n",
    "        # create unique key DOC_NAME, SPANS\n",
    "        key = tuple([x.doc_name] + sorted([ety.span for ety in x.args]))\n",
    "        Ys_brat[key] = x\n",
    "        \n",
    "print(len(Ys_brat))\n"
   ]
  },
  {
   "cell_type": "code",
   "execution_count": 72,
   "metadata": {},
   "outputs": [
    {
     "data": {
      "text/plain": [
       "140"
      ]
     },
     "execution_count": 72,
     "metadata": {},
     "output_type": "execute_result"
    }
   ],
   "source": [
    "Ys = []\n",
    "for x in Xs[0]:\n",
    "    spans = [\n",
    "        ((x.pain.abs_char_start, x.pain.abs_char_end + 1),),\n",
    "        ((x.anatomy.abs_char_start, x.anatomy.abs_char_end + 1),)\n",
    "    ]\n",
    "    key = tuple([x.pain.sentence.document.name] + sorted(spans))\n",
    "    y = 1 if key in Ys_brat else 2\n",
    "    Ys.append(y)\n",
    "    \n",
    "Ys.count(1) # we are missing 6 gold candidates (this impacts our final recall calculation)"
   ]
  },
  {
   "cell_type": "markdown",
   "metadata": {},
   "source": [
    "## 3. Apply Labeling Functions"
   ]
  },
  {
   "cell_type": "code",
   "execution_count": 73,
   "metadata": {},
   "outputs": [],
   "source": [
    "import re\n",
    "from rwe.helpers import get_left_span, get_right_span, get_between_span\n",
    "\n",
    "def dict_matches(span, dictionary):\n",
    "    matches = []\n",
    "    toks = span.get_attrib_tokens('words')\n",
    "    for i in range(len(toks)):\n",
    "        for j in range(i+1, len(toks)):\n",
    "            term = ' '.join(toks[i:j]).lower()\n",
    "            if term in dictionary:\n",
    "                matches.append(term)\n",
    "    return matches\n",
    "\n",
    "ABSTAIN  = 0\n",
    "NEGATIVE = 2\n",
    "POSITIVE = 1\n",
    "\n",
    "neg_rgx = re.compile(\n",
    "    r'''\\b(insensitivity|paresthesias|paresthesia|sensitivity|tenderness|discomfort|heaviness|sensitive|itchiness|tightness|throbbing|numbness|tingling|cramping|coldness|soreness|painful|hurting|itching|burning|tender|buring|aching|hurts|aches|pains|hurt|pain|ache|achy|numb)\\b''',\n",
    "    re.I\n",
    ")\n",
    "\n",
    "def LF_is_negated(x):\n",
    "    return NEGATIVE if 'negated' in x.pain.props else ABSTAIN\n",
    "\n",
    "def LF_is_hypothetical(x):\n",
    "    return NEGATIVE if 'hypothetical' in x.pain.props else ABSTAIN\n",
    "\n",
    "def LF_section_headers(x):\n",
    "    sections = {\n",
    "        'past medical history': NEGATIVE,\n",
    "        'chief complaint': POSITIVE,\n",
    "        'discharge instructions': NEGATIVE,\n",
    "        'discharge condition': NEGATIVE\n",
    "    }\n",
    "    header = x.pain.props['section'].text.lower() if x.pain.props['section'] else None\n",
    "    return ABSTAIN if header not in sections else sections[header]\n",
    "\n",
    "def LF_contiguous_args(x):\n",
    "    v = not get_between_span(x.pain, x.anatomy)\n",
    "    v &= not 'negated' in x.pain.props\n",
    "    v &= not 'hypothetical' in x.pain.props\n",
    "    return POSITIVE if v else ABSTAIN\n",
    "\n",
    "def LF_distant_args(x, max_toks=10):\n",
    "    \"\"\"Reject candidate if the arguments occur too far apart (in token distance).\"\"\"\n",
    "    span = get_between_span(x.pain, x.anatomy)\n",
    "    n_toks = len(span.get_attrib_tokens('words')) if span else 0\n",
    "    return NEGATIVE if n_toks > max_toks else ABSTAIN\n",
    "    \n",
    "def LF_between_terms(x):\n",
    "    \"\"\"Reject if some key terms occur between arguments.\"\"\"\n",
    "    span = get_between_span(x.pain, x.anatomy)\n",
    "    if not span:\n",
    "        return ABSTAIN\n",
    "    # negation term      \n",
    "    flag = neg_rgx.search(span.text) is not None\n",
    "    # anatomical term \n",
    "    flag |= len(dict_matches(span, dict_anat)) > 0\n",
    "    return NEGATIVE if flag else ABSTAIN\n",
    "\n",
    "def LF_complains_of(x):\n",
    "    rgx = re.compile(r'''\\b(complain(s*|ing*) of)\\b''', re.I)\n",
    "    is_negated = 'negated' in x.pain.props\n",
    "    is_complains_of = rgx.search(get_left_span(x.pain).text, re.I) is not None\n",
    "    return POSITIVE if not is_negated and is_complains_of else ABSTAIN\n",
    "    \n",
    "\n",
    "lfs = [\n",
    "    LF_is_negated,\n",
    "    LF_is_hypothetical,\n",
    "    LF_section_headers,\n",
    "    LF_contiguous_args,\n",
    "    LF_distant_args,\n",
    "    LF_between_terms,\n",
    "    LF_complains_of\n",
    "]\n"
   ]
  },
  {
   "cell_type": "code",
   "execution_count": 76,
   "metadata": {},
   "outputs": [
    {
     "name": "stdout",
     "output_type": "stream",
     "text": [
      "CPU times: user 1.13 s, sys: 282 ms, total: 1.41 s\n",
      "Wall time: 3.44 s\n"
     ]
    }
   ],
   "source": [
    "%%time\n",
    "from rwe.labelers import LabelingServer\n",
    "\n",
    "labeler = LabelingServer(num_workers=4)\n",
    "Ls = labeler.apply(lfs, Xs)\n"
   ]
  },
  {
   "cell_type": "code",
   "execution_count": 77,
   "metadata": {},
   "outputs": [
    {
     "data": {
      "text/html": [
       "<div>\n",
       "<style scoped>\n",
       "    .dataframe tbody tr th:only-of-type {\n",
       "        vertical-align: middle;\n",
       "    }\n",
       "\n",
       "    .dataframe tbody tr th {\n",
       "        vertical-align: top;\n",
       "    }\n",
       "\n",
       "    .dataframe thead th {\n",
       "        text-align: right;\n",
       "    }\n",
       "</style>\n",
       "<table border=\"1\" class=\"dataframe\">\n",
       "  <thead>\n",
       "    <tr style=\"text-align: right;\">\n",
       "      <th></th>\n",
       "      <th>j</th>\n",
       "      <th>Polarity</th>\n",
       "      <th>Coverage</th>\n",
       "      <th>Overlaps</th>\n",
       "      <th>Conflicts</th>\n",
       "      <th>Correct</th>\n",
       "      <th>Incorrect</th>\n",
       "      <th>Emp. Acc.</th>\n",
       "    </tr>\n",
       "  </thead>\n",
       "  <tbody>\n",
       "    <tr>\n",
       "      <th>LF_is_negated</th>\n",
       "      <td>0</td>\n",
       "      <td>2</td>\n",
       "      <td>0.155738</td>\n",
       "      <td>0.030055</td>\n",
       "      <td>0.000000</td>\n",
       "      <td>54</td>\n",
       "      <td>3</td>\n",
       "      <td>0.947368</td>\n",
       "    </tr>\n",
       "    <tr>\n",
       "      <th>LF_is_hypothetical</th>\n",
       "      <td>1</td>\n",
       "      <td>2</td>\n",
       "      <td>0.010929</td>\n",
       "      <td>0.008197</td>\n",
       "      <td>0.000000</td>\n",
       "      <td>4</td>\n",
       "      <td>0</td>\n",
       "      <td>1.000000</td>\n",
       "    </tr>\n",
       "    <tr>\n",
       "      <th>LF_section_headers</th>\n",
       "      <td>2</td>\n",
       "      <td>[1, 2]</td>\n",
       "      <td>0.240437</td>\n",
       "      <td>0.213115</td>\n",
       "      <td>0.054645</td>\n",
       "      <td>80</td>\n",
       "      <td>8</td>\n",
       "      <td>0.909091</td>\n",
       "    </tr>\n",
       "    <tr>\n",
       "      <th>LF_contiguous_args</th>\n",
       "      <td>3</td>\n",
       "      <td>1</td>\n",
       "      <td>0.480874</td>\n",
       "      <td>0.183060</td>\n",
       "      <td>0.054645</td>\n",
       "      <td>124</td>\n",
       "      <td>52</td>\n",
       "      <td>0.704545</td>\n",
       "    </tr>\n",
       "    <tr>\n",
       "      <th>LF_distant_args</th>\n",
       "      <td>4</td>\n",
       "      <td>2</td>\n",
       "      <td>0.133880</td>\n",
       "      <td>0.101093</td>\n",
       "      <td>0.000000</td>\n",
       "      <td>49</td>\n",
       "      <td>0</td>\n",
       "      <td>1.000000</td>\n",
       "    </tr>\n",
       "    <tr>\n",
       "      <th>LF_between_terms</th>\n",
       "      <td>5</td>\n",
       "      <td>2</td>\n",
       "      <td>0.142077</td>\n",
       "      <td>0.095628</td>\n",
       "      <td>0.002732</td>\n",
       "      <td>52</td>\n",
       "      <td>0</td>\n",
       "      <td>1.000000</td>\n",
       "    </tr>\n",
       "    <tr>\n",
       "      <th>LF_complains_of</th>\n",
       "      <td>6</td>\n",
       "      <td>1</td>\n",
       "      <td>0.021858</td>\n",
       "      <td>0.019126</td>\n",
       "      <td>0.002732</td>\n",
       "      <td>5</td>\n",
       "      <td>3</td>\n",
       "      <td>0.625000</td>\n",
       "    </tr>\n",
       "  </tbody>\n",
       "</table>\n",
       "</div>"
      ],
      "text/plain": [
       "                    j Polarity  Coverage  Overlaps  Conflicts  Correct  \\\n",
       "LF_is_negated       0        2  0.155738  0.030055   0.000000       54   \n",
       "LF_is_hypothetical  1        2  0.010929  0.008197   0.000000        4   \n",
       "LF_section_headers  2   [1, 2]  0.240437  0.213115   0.054645       80   \n",
       "LF_contiguous_args  3        1  0.480874  0.183060   0.054645      124   \n",
       "LF_distant_args     4        2  0.133880  0.101093   0.000000       49   \n",
       "LF_between_terms    5        2  0.142077  0.095628   0.002732       52   \n",
       "LF_complains_of     6        1  0.021858  0.019126   0.002732        5   \n",
       "\n",
       "                    Incorrect  Emp. Acc.  \n",
       "LF_is_negated               3   0.947368  \n",
       "LF_is_hypothetical          0   1.000000  \n",
       "LF_section_headers          8   0.909091  \n",
       "LF_contiguous_args         52   0.704545  \n",
       "LF_distant_args             0   1.000000  \n",
       "LF_between_terms            0   1.000000  \n",
       "LF_complains_of             3   0.625000  "
      ]
     },
     "execution_count": 77,
     "metadata": {},
     "output_type": "execute_result"
    }
   ],
   "source": [
    "from rwe.analysis import lf_summary\n",
    "\n",
    "lf_summary(Ls[0], Y=Ys, lf_names=[lf.__name__ for lf in lfs])"
   ]
  },
  {
   "cell_type": "code",
   "execution_count": 78,
   "metadata": {},
   "outputs": [
    {
     "data": {
      "image/png": "[encoded data removed]",
      "text/plain": [
       "<Figure size 432x288 with 2 Axes>"
      ]
     },
     "metadata": {
      "needs_background": "light"
     },
     "output_type": "display_data"
    },
    {
     "data": {
      "image/png": "[encoded data removed]",
      "text/plain": [
       "<Figure size 432x288 with 2 Axes>"
      ]
     },
     "metadata": {
      "needs_background": "light"
     },
     "output_type": "display_data"
    },
    {
     "data": {
      "image/png": "[encoded data removed]",
      "text/plain": [
       "<Figure size 432x288 with 2 Axes>"
      ]
     },
     "metadata": {
      "needs_background": "light"
     },
     "output_type": "display_data"
    }
   ],
   "source": [
    "from rwe.visualization.analysis import view_conflicts, view_label_matrix, view_overlaps\n",
    "\n",
    "view_overlaps(Ls[0], normalize=False)\n",
    "view_label_matrix(Ls[0])\n",
    "view_conflicts(Ls[0], normalize=False)"
   ]
  },
  {
   "cell_type": "markdown",
   "metadata": {},
   "source": [
    "## 4. Train Snorkel Label Model "
   ]
  },
  {
   "cell_type": "code",
   "execution_count": 84,
   "metadata": {},
   "outputs": [],
   "source": [
    "# convert sparse matrix to new Snorkel format\n",
    "\n",
    "def convert_label_matrix(L):\n",
    "    L = L.toarray().copy()\n",
    "    L[L == 0] = -1\n",
    "    L[L == 2] = 0\n",
    "    return L\n",
    "\n",
    "\n",
    "Ls_hat = [\n",
    "    convert_label_matrix(Ls[0]),\n",
    "    convert_label_matrix(Ls[1]),\n",
    "]\n",
    "\n",
    "Ys_hat = [\n",
    "    np.array([0 if y == 2 else 1 for y in Ys]),\n",
    "    []\n",
    "]\n"
   ]
  },
  {
   "cell_type": "code",
   "execution_count": 80,
   "metadata": {},
   "outputs": [
    {
     "name": "stderr",
     "output_type": "stream",
     "text": [
      "WARNING:root:Metrics calculated over data points with non-abstain labels only\n"
     ]
    },
    {
     "data": {
      "text/plain": [
       "{'accuracy': 0.8167202572347267,\n",
       " 'precision': 0.7039106145251397,\n",
       " 'recall': 0.9692307692307692,\n",
       " 'f1': 0.8155339805825242}"
      ]
     },
     "execution_count": 80,
     "metadata": {},
     "output_type": "execute_result"
    }
   ],
   "source": [
    "from snorkel.labeling import LabelModel\n",
    "\n",
    "lr = 0.01\n",
    "l2 = 0.001\n",
    "prec_init = 0.9\n",
    "\n",
    "label_model = LabelModel(cardinality=2, device='cpu', verbose=True)\n",
    "label_model.fit(L_train=Ls_hat[0], \n",
    "                n_epochs=1000, \n",
    "                lr=lr,\n",
    "                l2=l2,\n",
    "                prec_init=prec_init,\n",
    "                optimizer='adam',\n",
    "                log_freq=100)\n",
    "\n",
    "metrics = ['accuracy', 'precision', 'recall', 'f1']\n",
    "label_model.score(L=Ls_hat[0], Y=Ys_hat[0], metrics=metrics)\n"
   ]
  },
  {
   "cell_type": "markdown",
   "metadata": {},
   "source": [
    "## Predict Probabalsitic Labels for Unlabeled Data"
   ]
  },
  {
   "cell_type": "code",
   "execution_count": 87,
   "metadata": {},
   "outputs": [
    {
     "data": {
      "text/plain": [
       "array([[1.09454077e-04, 9.99890546e-01],\n",
       "       [9.28945540e-01, 7.10544600e-02],\n",
       "       [9.96700950e-01, 3.29905027e-03],\n",
       "       ...,\n",
       "       [2.53230785e-02, 9.74676922e-01],\n",
       "       [2.53230785e-02, 9.74676922e-01],\n",
       "       [2.53230785e-02, 9.74676922e-01]])"
      ]
     },
     "execution_count": 87,
     "metadata": {},
     "output_type": "execute_result"
    }
   ],
   "source": [
    "#label_model.predict(Ls_hat[1])\n",
    "\n",
    "label_model.predict_proba(Ls_hat[1])"
   ]
  },
  {
   "cell_type": "code",
   "execution_count": null,
   "metadata": {},
   "outputs": [],
   "source": []
  }
 ],
 "metadata": {
  "kernelspec": {
   "display_name": "Python 3.6.7 (bert)",
   "language": "python",
   "name": "bert"
  },
  "language_info": {
   "codemirror_mode": {
    "name": "ipython",
    "version": 3
   },
   "file_extension": ".py",
   "mimetype": "text/x-python",
   "name": "python",
   "nbconvert_exporter": "python",
   "pygments_lexer": "ipython3",
   "version": "3.6.7"
  }
 },
 "nbformat": 4,
 "nbformat_minor": 2
}
