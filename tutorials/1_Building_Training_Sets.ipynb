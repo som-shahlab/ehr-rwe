{
 "cells": [
  {
   "cell_type": "markdown",
   "metadata": {},
   "source": [
    "# Building Training Sets with Weak Supervision\n",
    "In this tutorial, we'll build a `Pain-Anatomy` relation training set using weakly superivsed methods. This notebook covers: \n",
    "- Loading pre-processed documents\n",
    "- Generating relational candidates \n",
    "- Applying labeling functions\n",
    "- Training a Snorkel Label Model"
   ]
  },
  {
   "cell_type": "code",
   "execution_count": 3,
   "metadata": {
    "collapsed": false
   },
   "outputs": [
    {
     "name": "stdout",
     "output_type": "stream",
     "text": [
      "The autoreload extension is already loaded. To reload it, use:\n",
      "  %reload_ext autoreload\n"
     ]
    }
   ],
   "source": [
    "%load_ext autoreload\n",
    "%autoreload 2\n",
    "%matplotlib inline\n",
    "\n",
    "import sys\n",
    "sys.path.insert(0,'../../ehr-rwe/')\n",
    "\n",
    "import glob\n",
    "import collections\n",
    "import numpy as np\n",
    "import pandas as pd"
   ]
  },
  {
   "cell_type": "code",
   "execution_count": 6,
   "metadata": {
    "collapsed": false
   },
   "outputs": [
    {
     "name": "stdout",
     "output_type": "stream",
     "text": [
      "Python version 3.6.7 | packaged by conda-forge | (default, Nov  6 2019, 16:03:31) \n",
      "[GCC Clang 9.0.0 (tags/RELEASE_900/final)]\n",
      "Snorkel v0.9.3\n",
      "NumPy v1.18.1\n"
     ]
    }
   ],
   "source": [
    "import snorkel\n",
    "\n",
    "print(f'Python version {sys.version}')\n",
    "print(f'Snorkel v{snorkel.__version__}')\n",
    "print(f'NumPy v{np.__version__}')"
   ]
  },
  {
   "cell_type": "markdown",
   "metadata": {},
   "source": [
    "## 1. Load MIMIC-III Documents\n",
    "\n",
    "This notebook assumes documents have already been preprocessed and dumped into JSON format, and placed in the `../data/` subdirectory. We created a small annotated dataset using MIMIC-III patient notes, and provide the relevant row IDs for those notes in `../data/annotations/`. See the `mimic_to_tsv.py` and `preprocess.py` scripts in `preprocessing/` to create the required JSON files.\n",
    "\n",
    "You will need access to MIMIC-III data to run this notebook using our tutorial annotations.  See https://mimic.physionet.org/gettingstarted/access/\n",
    "\n",
    "See `preprocessing/README.md` for details."
   ]
  },
  {
   "cell_type": "code",
   "execution_count": 8,
   "metadata": {
    "collapsed": false
   },
   "outputs": [
    {
     "name": "stdout",
     "output_type": "stream",
     "text": [
      "Loaded 55 documents\n",
      "Loaded 1322 documents\n"
     ]
    }
   ],
   "source": [
    "from rwe import dataloader\n",
    "\n",
    "inputdir = '../data/corpora/'\n",
    " \n",
    "corpus = [\n",
    "    dataloader([f'{inputdir}/mimic_gold.0.json']), \n",
    "    dataloader([f'{inputdir}/mimic_unlabeled.0.json'])\n",
    "]\n",
    "\n",
    "for split in corpus:\n",
    "    print(f'Loaded {len(split)} documents')\n"
   ]
  },
  {
   "cell_type": "markdown",
   "metadata": {},
   "source": [
    "## 2. Generate Candidates\n",
    "\n",
    "This is an example pipeline for generating `Pain-Anat` relation candidates. Relations are defined as a tuple $k$ entity spans. For simplicity's sake, we consider binary relations between all `Anatomy` and `Pain` entity pairs found within the same sentence. Entities can be tagged using a clinical named entity recognition (NER) model if available. Here we use a dictionary-based method to tag our initial `Anatomy` and `Pain` entities. \n",
    "\n",
    "### Clinical Text Markup\n",
    "When writing labeling functions, it's helpful to have access to document markup and other metadata. For example, we might want to know what document section we are currently in (e.g., Past Medical History) or if we have temporal information above an event, such as a data of occurence, we might want to incorporate that information into our labeling heuristics. \n",
    "\n",
    "We have written taggers that identify these document attributes, and execute them below in the same pipeline that extracts our `Pain-Anat` relation candidates.\n",
    "\n",
    "### Timing Benchmarks \n",
    "\n",
    "- 4 core MacBook Pro 2.5Ghz mid-2015\n",
    "\n",
    "| N Documents   | N Cores | Time |\n",
    "|---------------|---------|----------------|\n",
    "| 1322          | 4       | 1 minute 10 secs |\n",
    "\n"
   ]
  },
  {
   "cell_type": "code",
   "execution_count": 93,
   "metadata": {
    "collapsed": false
   },
   "outputs": [],
   "source": [
    "from rwe.utils import load_dict\n",
    "from rwe.labelers.taggers import (\n",
    "    ResetTags, RelationTagger, \n",
    "    DictionaryTagger, NegExTagger, HypotheticalTagger, HistoricalTagger,\n",
    "    SectionHeaderTagger, ParentSectionTagger,\n",
    "    DocTimeTagger, MappedDocTimeTagger, \n",
    "    Timex3Tagger, Timex3NormalizerTagger, TimeDeltaTagger,\n",
    ")\n",
    "\n",
    "dict_pain = load_dict('../data/supervision/dicts/pain/pain.txt')\n",
    "dict_anat = load_dict('../data/supervision/dicts/anatomy/fma_anatomy.bz2')\n",
    "\n",
    "target_entities = ['pain']\n",
    "\n",
    "# NOTE: Pipelines are *order dependant* as normalizers and attribute taggers assume\n",
    "# the existence of certain concept targets (e.g., Timex3Normalizer requires timex3 entities)\n",
    "pipeline = {\n",
    "    # 1. Clear any previous runs\n",
    "    \"reset\"        : ResetTags(),\n",
    "    \n",
    "    # 2. Clinical concepts\n",
    "    \"concepts\"  : DictionaryTagger({'pain': dict_pain, 'anatomy': dict_anat}),\n",
    "    \"headers\"   : SectionHeaderTagger(),\n",
    "    \"timex3\"    : Timex3Tagger(),\n",
    "    \n",
    "    # 3. Normalize datetimes\n",
    "    \"doctimes\"  : DocTimeTagger(prop='CHARTDATE'), # document time stamp\n",
    "    \"normalize\" : Timex3NormalizerTagger(),\n",
    "    \n",
    "    # 4. Concept attributes\n",
    "    \"section\"      : ParentSectionTagger(targets=target_entities),\n",
    "    \"tdelta\"       : TimeDeltaTagger(targets=target_entities),\n",
    "    \"negation\"     : NegExTagger(targets=target_entities, data_root=\"../data/supervision/dicts/negex/\"),\n",
    "    \"hypothetical\" : HypotheticalTagger(targets=target_entities),\n",
    "    'historical'   : HistoricalTagger(targets=target_entities),\n",
    "    \n",
    "    # 5. Extract relation candidates\n",
    "    \"pain-anat\"    : RelationTagger('pain-anatomy', ('pain', 'anatomy'))\n",
    "}\n"
   ]
  },
  {
   "cell_type": "code",
   "execution_count": 95,
   "metadata": {
    "collapsed": false
   },
   "outputs": [
    {
     "name": "stdout",
     "output_type": "stream",
     "text": [
      "auto block size=345\n",
      "Partitioned into 4 blocks, [342 345] sizes\n",
      "CPU times: user 4.03 s, sys: 850 ms, total: 4.88 s\n",
      "Wall time: 1min 10s\n"
     ]
    }
   ],
   "source": [
    "%%time\n",
    "from rwe.labelers import TaggerPipelineServer\n",
    "\n",
    "tagger = TaggerPipelineServer(num_workers=4)\n",
    "documents = tagger.apply(pipeline, corpus)\n"
   ]
  },
  {
   "cell_type": "code",
   "execution_count": 96,
   "metadata": {
    "collapsed": false
   },
   "outputs": [
    {
     "name": "stdout",
     "output_type": "stream",
     "text": [
      "Split: 0 n_candidates: 390\n",
      "Split: 1 n_candidates: 5185\n"
     ]
    }
   ],
   "source": [
    "from rwe.utils import build_candidate_set\n",
    "\n",
    "Xs = [\n",
    "    build_candidate_set(documents[0], \"pain-anatomy\"),\n",
    "    build_candidate_set(documents[1], \"pain-anatomy\")\n",
    "]\n",
    "\n",
    "for i in range(len(Xs)):\n",
    "    print(f'Split: {i} n_candidates: {len(Xs[i])}')"
   ]
  },
  {
   "cell_type": "markdown",
   "metadata": {},
   "source": [
    "### Load Gold Labeled Data\n",
    "As a source of gold labeled data for evaluating our relation extraction model, we have annotated MIMIC III notes to identify pain-anatomy relations, using Brat. We have provided the Brat annotation files as part of this demo."
   ]
  },
  {
   "cell_type": "code",
   "execution_count": 97,
   "metadata": {
    "collapsed": false
   },
   "outputs": [
    {
     "name": "stdout",
     "output_type": "stream",
     "text": [
      "==================================================\n",
      "ANNOTATOR SUMMARY\n",
      "==================================================\n",
      "-------------------------\n",
      "annotator_b\n",
      "-------------------------\n",
      "ENTITY              962\n",
      " - Concept          962\n",
      "                         \n",
      "RELATION            182\n",
      " - X-at             182\n",
      "                         \n",
      "-------------------------\n",
      "annotator_a\n",
      "-------------------------\n",
      "ENTITY              961\n",
      " - Concept          961\n",
      "                         \n",
      "RELATION            179\n",
      " - X-at             179\n",
      "                         \n",
      "Kappa Agreement (method=randolph)\n",
      "OVERALL        (n=539): 0.952\n",
      "X-at           (n=184): 0.924\n"
     ]
    }
   ],
   "source": [
    "from rwe.contrib.brat import *\n",
    "\n",
    "inputdir = \"../data/brat/\"\n",
    "\n",
    "gold = BratAnnotations(inputdir)\n",
    "gold.annotator_summary()\n",
    "gold.annotator_agreement(ignore_types=['Concept'], relations_only=True)"
   ]
  },
  {
   "cell_type": "markdown",
   "metadata": {},
   "source": [
    "#### We are only considering `pain-anat` relations for this tutorial, so let's filter the gold data to only pain mentions."
   ]
  },
  {
   "cell_type": "code",
   "execution_count": 98,
   "metadata": {
    "collapsed": false
   },
   "outputs": [
    {
     "name": "stdout",
     "output_type": "stream",
     "text": [
      "159\n"
     ]
    }
   ],
   "source": [
    "annos = gold.aggregate_raters(ignore_types=['Concept'], relations_only=True)\n",
    "\n",
    "Ys_brat = {}\n",
    "relations = [x for x in annos if x.type == 'X-at']\n",
    "for x in relations:\n",
    "    # only include gold relations for pain-anat\n",
    "    args = [a.text.lower() for a in x.args]\n",
    "    if dict_pain.intersection(args):   \n",
    "        # create unique key DOC_NAME, SPANS\n",
    "        key = tuple([x.doc_name] + sorted([ety.span for ety in x.args]))\n",
    "        Ys_brat[key] = x\n",
    "        \n",
    "print(len(Ys_brat))\n"
   ]
  },
  {
   "cell_type": "markdown",
   "metadata": {},
   "source": [
    "Now we'll build our target labels `Ys` mapping to whether each relation is a a true present positive occurance of pain or not."
   ]
  },
  {
   "cell_type": "code",
   "execution_count": 99,
   "metadata": {
    "collapsed": false
   },
   "outputs": [
    {
     "name": "stdout",
     "output_type": "stream",
     "text": [
      "147\n",
      "243\n"
     ]
    }
   ],
   "source": [
    "debug = {}\n",
    "\n",
    "Ys = []\n",
    "for x in Xs[0]:\n",
    "    spans = [\n",
    "        ((x.pain.abs_char_start, x.pain.abs_char_end + 1),),\n",
    "        ((x.anatomy.abs_char_start, x.anatomy.abs_char_end + 1),)\n",
    "    ]\n",
    "    key = tuple([x.pain.sentence.document.name] + sorted(spans))\n",
    "    y = 1 if key in Ys_brat else 2\n",
    "    Ys.append(y)\n",
    "    \n",
    "    if key in Ys_brat:\n",
    "        debug[key] = x\n",
    "    \n",
    "print(Ys.count(1)) \n",
    "print(Ys.count(2))"
   ]
  },
  {
   "cell_type": "markdown",
   "metadata": {},
   "source": [
    "### Missing Candidates\n",
    "When using a simple dictionary-based method to enumerate candidate relations, we typically have some subset of true mentions that we fail to generate. In this case, we are missing anatomical entities such as \"bilateral flank\" and \"midback\", which are not in our UMLS-based anatomy dictionary. These missing candidates impact our final recall score."
   ]
  },
  {
   "cell_type": "code",
   "execution_count": 113,
   "metadata": {
    "collapsed": false
   },
   "outputs": [
    {
     "name": "stdout",
     "output_type": "stream",
     "text": [
      "X-at( Concept(\"bilateral flank\":680-695), Concept(\"pain\":696-700) )\n",
      "X-at( Concept(\"bilateral flank\":7082-7097), Concept(\"pain\":7098-7102) )\n",
      "X-at( Concept(\"tender\":1415-1421), Concept(\"R trochantor\":1422-1434) )\n",
      "X-at( Concept(\"lower back\":1272-1277), Concept(\"pain\":1283-1287) )\n",
      "X-at( Concept(\"left shoulder\":4144-4148), Concept(\"pain\":4158-4162) )\n",
      "X-at( Concept(\"Pain\":871-875), Concept(\"R scapula\":920-929) )\n",
      "X-at( Concept(\"cervical\":405-413), Concept(\"pain\":433-437) )\n",
      "X-at( Concept(\"pain\":277-281), Concept(\"midback\":295-302) )\n",
      "X-at( Concept(\"sternal\":286-293), Concept(\"pain\":305-309) )\n",
      "X-at( Concept(\"low back\":1529-1537), Concept(\"pain\":1538-1542) )\n",
      "X-at( Concept(\"facial\":268-274), Concept(\"numbness\":275-283) )\n",
      "X-at( Concept(\"left jaw\":534-542), Concept(\"pain\":551-555) )\n",
      "Missed 12 (7.5%) of true relations\n"
     ]
    }
   ],
   "source": [
    "n_missing = 0\n",
    "for key in Ys_brat:\n",
    "    if key not in debug:\n",
    "        print(Ys_brat[key])\n",
    "        n_missing += 1\n",
    "        \n",
    "print(f'Missed {n_missing} ({n_missing / len(Ys_brat) * 100:2.1f}%) of true relations')"
   ]
  },
  {
   "cell_type": "markdown",
   "metadata": {},
   "source": [
    "## 3. Apply Labeling Functions"
   ]
  },
  {
   "cell_type": "markdown",
   "metadata": {},
   "source": [
    "Below is a set of example labeling functions that use document attributes and sentence content to vote on whether a given `pain-anat` relation candidate is a true mention."
   ]
  },
  {
   "cell_type": "code",
   "execution_count": 102,
   "metadata": {
    "collapsed": true
   },
   "outputs": [],
   "source": [
    "import re\n",
    "from rwe.helpers import get_left_span, get_right_span, get_between_span\n",
    "\n",
    "def dict_matches(span, dictionary):\n",
    "    matches = []\n",
    "    toks = span.get_attrib_tokens('words')\n",
    "    for i in range(len(toks)):\n",
    "        for j in range(i+1, len(toks)):\n",
    "            term = ' '.join(toks[i:j]).lower()\n",
    "            if term in dictionary:\n",
    "                matches.append(term)\n",
    "    return matches\n",
    "\n",
    "ABSTAIN  = 0\n",
    "NEGATIVE = 2\n",
    "POSITIVE = 1\n",
    "\n",
    "neg_rgx = re.compile(\n",
    "    r'''\\b(insensitivity|paresthesias|paresthesia|sensitivity|tenderness|discomfort|heaviness|sensitive|itchiness|tightness|throbbing|numbness|tingling|cramping|coldness|soreness|painful|hurting|itching|burning|tender|buring|aching|hurts|aches|pains|hurt|pain|ache|achy|numb)\\b''',\n",
    "    re.I\n",
    ")\n",
    "\n",
    "def LF_is_negated(x):\n",
    "    return NEGATIVE if 'negated' in x.pain.props else ABSTAIN\n",
    "\n",
    "def LF_is_hypothetical(x):\n",
    "    return NEGATIVE if 'hypothetical' in x.pain.props else ABSTAIN\n",
    "\n",
    "def LF_section_headers(x):\n",
    "    \"\"\"Predict label based on the section this candidate relation is found in.\"\"\"\n",
    "    sections = {\n",
    "        'past medical history': NEGATIVE,\n",
    "        'chief complaint': POSITIVE,\n",
    "        'discharge instructions': NEGATIVE,\n",
    "        'discharge condition': NEGATIVE\n",
    "    }\n",
    "    header = x.pain.props['section'].text.lower() if x.pain.props['section'] else None\n",
    "    return ABSTAIN if header not in sections else sections[header]\n",
    "\n",
    "def LF_contiguous_args(x):\n",
    "    \"\"\"Candidate is of the form 'chest pain'\"\"\"\n",
    "    v = not get_between_span(x.pain, x.anatomy)\n",
    "    v &= not 'negated' in x.pain.props\n",
    "    v &= not 'hypothetical' in x.pain.props\n",
    "    return POSITIVE if v else ABSTAIN\n",
    "\n",
    "def LF_distant_args(x, max_toks=10):\n",
    "    \"\"\"Reject candidate if the arguments occur too far apart (in token distance).\"\"\"\n",
    "    span = get_between_span(x.pain, x.anatomy)\n",
    "    n_toks = len(span.get_attrib_tokens('words')) if span else 0\n",
    "    return NEGATIVE if n_toks > max_toks else ABSTAIN\n",
    "    \n",
    "def LF_between_terms(x):\n",
    "    \"\"\"Reject if some key terms occur between arguments.\"\"\"\n",
    "    span = get_between_span(x.pain, x.anatomy)\n",
    "    if not span:\n",
    "        return ABSTAIN\n",
    "    # negation term      \n",
    "    flag = neg_rgx.search(span.text) is not None\n",
    "    # anatomical term \n",
    "    flag |= len(dict_matches(span, dict_anat)) > 0\n",
    "    return NEGATIVE if flag else ABSTAIN\n",
    "\n",
    "def LF_complains_of(x):\n",
    "    \"\"\"Search for pattern 'complains of X' \"\"\"\n",
    "    rgx = re.compile(r'''\\b(complain(s*|ing*) of)\\b''', re.I)\n",
    "    is_negated = 'negated' in x.pain.props\n",
    "    is_complains_of = rgx.search(get_left_span(x.pain).text, re.I) is not None\n",
    "    return POSITIVE if not is_negated and is_complains_of else ABSTAIN\n",
    "    \n",
    "\n",
    "lfs = [\n",
    "    LF_is_negated,\n",
    "    LF_is_hypothetical,\n",
    "    LF_section_headers,\n",
    "    LF_contiguous_args,\n",
    "    LF_distant_args,\n",
    "    LF_between_terms,\n",
    "    LF_complains_of\n",
    "]\n"
   ]
  },
  {
   "cell_type": "markdown",
   "metadata": {},
   "source": [
    "Let's apply these LFs to our training data."
   ]
  },
  {
   "cell_type": "code",
   "execution_count": 103,
   "metadata": {
    "collapsed": false
   },
   "outputs": [
    {
     "name": "stdout",
     "output_type": "stream",
     "text": [
      "CPU times: user 1.88 s, sys: 341 ms, total: 2.22 s\n",
      "Wall time: 4.94 s\n"
     ]
    }
   ],
   "source": [
    "%%time\n",
    "from rwe.labelers import LabelingServer\n",
    "\n",
    "labeler = LabelingServer(num_workers=4)\n",
    "Ls = labeler.apply(lfs, Xs)\n"
   ]
  },
  {
   "cell_type": "markdown",
   "metadata": {},
   "source": [
    "We can then examine the accuracy of each of our LFs using the gold labeled data as ground truth."
   ]
  },
  {
   "cell_type": "code",
   "execution_count": 104,
   "metadata": {
    "collapsed": false
   },
   "outputs": [
    {
     "data": {
      "text/html": [
       "<div>\n",
       "<style scoped>\n",
       "    .dataframe tbody tr th:only-of-type {\n",
       "        vertical-align: middle;\n",
       "    }\n",
       "\n",
       "    .dataframe tbody tr th {\n",
       "        vertical-align: top;\n",
       "    }\n",
       "\n",
       "    .dataframe thead th {\n",
       "        text-align: right;\n",
       "    }\n",
       "</style>\n",
       "<table border=\"1\" class=\"dataframe\">\n",
       "  <thead>\n",
       "    <tr style=\"text-align: right;\">\n",
       "      <th></th>\n",
       "      <th>j</th>\n",
       "      <th>Polarity</th>\n",
       "      <th>Coverage</th>\n",
       "      <th>Overlaps</th>\n",
       "      <th>Conflicts</th>\n",
       "      <th>Correct</th>\n",
       "      <th>Incorrect</th>\n",
       "      <th>Emp. Acc.</th>\n",
       "    </tr>\n",
       "  </thead>\n",
       "  <tbody>\n",
       "    <tr>\n",
       "      <th>LF_is_negated</th>\n",
       "      <td>0</td>\n",
       "      <td>2</td>\n",
       "      <td>0.156410</td>\n",
       "      <td>0.033333</td>\n",
       "      <td>0.000000</td>\n",
       "      <td>57</td>\n",
       "      <td>4</td>\n",
       "      <td>0.934426</td>\n",
       "    </tr>\n",
       "    <tr>\n",
       "      <th>LF_is_hypothetical</th>\n",
       "      <td>1</td>\n",
       "      <td>2</td>\n",
       "      <td>0.012821</td>\n",
       "      <td>0.007692</td>\n",
       "      <td>0.000000</td>\n",
       "      <td>5</td>\n",
       "      <td>0</td>\n",
       "      <td>1.000000</td>\n",
       "    </tr>\n",
       "    <tr>\n",
       "      <th>LF_section_headers</th>\n",
       "      <td>2</td>\n",
       "      <td>[1, 2]</td>\n",
       "      <td>0.251282</td>\n",
       "      <td>0.212821</td>\n",
       "      <td>0.051282</td>\n",
       "      <td>93</td>\n",
       "      <td>5</td>\n",
       "      <td>0.948980</td>\n",
       "    </tr>\n",
       "    <tr>\n",
       "      <th>LF_contiguous_args</th>\n",
       "      <td>3</td>\n",
       "      <td>1</td>\n",
       "      <td>0.448718</td>\n",
       "      <td>0.171795</td>\n",
       "      <td>0.051282</td>\n",
       "      <td>130</td>\n",
       "      <td>45</td>\n",
       "      <td>0.742857</td>\n",
       "    </tr>\n",
       "    <tr>\n",
       "      <th>LF_distant_args</th>\n",
       "      <td>4</td>\n",
       "      <td>2</td>\n",
       "      <td>0.156410</td>\n",
       "      <td>0.125641</td>\n",
       "      <td>0.000000</td>\n",
       "      <td>61</td>\n",
       "      <td>0</td>\n",
       "      <td>1.000000</td>\n",
       "    </tr>\n",
       "    <tr>\n",
       "      <th>LF_between_terms</th>\n",
       "      <td>5</td>\n",
       "      <td>2</td>\n",
       "      <td>0.156410</td>\n",
       "      <td>0.112821</td>\n",
       "      <td>0.002564</td>\n",
       "      <td>61</td>\n",
       "      <td>0</td>\n",
       "      <td>1.000000</td>\n",
       "    </tr>\n",
       "    <tr>\n",
       "      <th>LF_complains_of</th>\n",
       "      <td>6</td>\n",
       "      <td>1</td>\n",
       "      <td>0.020513</td>\n",
       "      <td>0.017949</td>\n",
       "      <td>0.002564</td>\n",
       "      <td>5</td>\n",
       "      <td>3</td>\n",
       "      <td>0.625000</td>\n",
       "    </tr>\n",
       "  </tbody>\n",
       "</table>\n",
       "</div>"
      ],
      "text/plain": [
       "                    j Polarity  Coverage  Overlaps  Conflicts  Correct  \\\n",
       "LF_is_negated       0        2  0.156410  0.033333   0.000000       57   \n",
       "LF_is_hypothetical  1        2  0.012821  0.007692   0.000000        5   \n",
       "LF_section_headers  2   [1, 2]  0.251282  0.212821   0.051282       93   \n",
       "LF_contiguous_args  3        1  0.448718  0.171795   0.051282      130   \n",
       "LF_distant_args     4        2  0.156410  0.125641   0.000000       61   \n",
       "LF_between_terms    5        2  0.156410  0.112821   0.002564       61   \n",
       "LF_complains_of     6        1  0.020513  0.017949   0.002564        5   \n",
       "\n",
       "                    Incorrect  Emp. Acc.  \n",
       "LF_is_negated               4   0.934426  \n",
       "LF_is_hypothetical          0   1.000000  \n",
       "LF_section_headers          5   0.948980  \n",
       "LF_contiguous_args         45   0.742857  \n",
       "LF_distant_args             0   1.000000  \n",
       "LF_between_terms            0   1.000000  \n",
       "LF_complains_of             3   0.625000  "
      ]
     },
     "execution_count": 104,
     "metadata": {},
     "output_type": "execute_result"
    }
   ],
   "source": [
    "from rwe.analysis import lf_summary\n",
    "\n",
    "lf_summary(Ls[0], Y=Ys, lf_names=[lf.__name__ for lf in lfs])"
   ]
  },
  {
   "cell_type": "code",
   "execution_count": 105,
   "metadata": {
    "collapsed": false
   },
   "outputs": [
    {
     "data": {
      "image/png": "[encoded data removed]",
      "text/plain": [
       "<Figure size 432x288 with 2 Axes>"
      ]
     },
     "metadata": {
      "needs_background": "light"
     },
     "output_type": "display_data"
    },
    {
     "data": {
      "image/png": "[encoded data removed]",
      "text/plain": [
       "<Figure size 432x288 with 2 Axes>"
      ]
     },
     "metadata": {
      "needs_background": "light"
     },
     "output_type": "display_data"
    },
    {
     "data": {
      "image/png": "[encoded data removed]",
      "text/plain": [
       "<Figure size 432x288 with 2 Axes>"
      ]
     },
     "metadata": {
      "needs_background": "light"
     },
     "output_type": "display_data"
    }
   ],
   "source": [
    "from rwe.visualization.analysis import view_conflicts, view_label_matrix, view_overlaps\n",
    "\n",
    "view_overlaps(Ls[0], normalize=False)\n",
    "view_label_matrix(Ls[0])\n",
    "view_conflicts(Ls[0], normalize=False)"
   ]
  },
  {
   "cell_type": "markdown",
   "metadata": {},
   "source": [
    "## 4. Train Snorkel Label Model \n",
    "\n",
    "### The next step is to train a Snorkel Label model using the data labeled with our labeling functions."
   ]
  },
  {
   "cell_type": "code",
   "execution_count": 106,
   "metadata": {
    "collapsed": true
   },
   "outputs": [],
   "source": [
    "# convert sparse matrix to new Snorkel format\n",
    "\n",
    "def convert_label_matrix(L):\n",
    "    L = L.toarray().copy()\n",
    "    L[L == 0] = -1\n",
    "    L[L == 2] = 0\n",
    "    return L\n",
    "\n",
    "\n",
    "Ls_hat = [\n",
    "    convert_label_matrix(Ls[0]),\n",
    "    convert_label_matrix(Ls[1]),\n",
    "]\n",
    "\n",
    "Ys_hat = [\n",
    "    np.array([0 if y == 2 else 1 for y in Ys]),\n",
    "    []\n",
    "]\n"
   ]
  },
  {
   "cell_type": "code",
   "execution_count": 107,
   "metadata": {
    "collapsed": false
   },
   "outputs": [
    {
     "name": "stderr",
     "output_type": "stream",
     "text": [
      "WARNING:root:Metrics calculated over data points with non-abstain labels only\n"
     ]
    },
    {
     "data": {
      "text/plain": [
       "{'accuracy': 0.8459214501510574,\n",
       " 'precision': 0.7401129943502824,\n",
       " 'recall': 0.9632352941176471,\n",
       " 'f1': 0.8370607028753994}"
      ]
     },
     "execution_count": 107,
     "metadata": {},
     "output_type": "execute_result"
    }
   ],
   "source": [
    "from snorkel.labeling import LabelModel\n",
    "lr = 0.01\n",
    "l2 = 0.001\n",
    "prec_init = 0.9\n",
    "\n",
    "label_model = LabelModel(cardinality=2, device='cpu', verbose=True)\n",
    "label_model.fit(L_train=Ls_hat[0], \n",
    "                n_epochs=1000, \n",
    "                lr=lr,\n",
    "                l2=l2,\n",
    "                prec_init=prec_init,\n",
    "                optimizer='adam',\n",
    "                log_freq=100)\n",
    "\n",
    "metrics = ['accuracy', 'precision', 'recall', 'f1']\n",
    "label_model.score(L=Ls_hat[0], Y=Ys_hat[0], metrics=metrics)\n"
   ]
  },
  {
   "cell_type": "markdown",
   "metadata": {},
   "source": [
    "## 5. Predict Probabalsitic Labels for Unlabeled Data\n",
    "\n",
    "### The last step in this tutorial is to use our labeling model to predict on new data."
   ]
  },
  {
   "cell_type": "code",
   "execution_count": 109,
   "metadata": {
    "collapsed": false
   },
   "outputs": [],
   "source": [
    "y_proba = label_model.predict_proba(Ls_hat[1])"
   ]
  },
  {
   "cell_type": "code",
   "execution_count": 110,
   "metadata": {
    "collapsed": false
   },
   "outputs": [
    {
     "data": {
      "text/plain": [
       "array([[1.93261141e-04, 9.99806739e-01],\n",
       "       [8.81629447e-01, 1.18370553e-01],\n",
       "       [9.97260528e-01, 2.73947202e-03],\n",
       "       ...,\n",
       "       [4.35875699e-02, 9.56412430e-01],\n",
       "       [4.35875699e-02, 9.56412430e-01],\n",
       "       [4.35875699e-02, 9.56412430e-01]])"
      ]
     },
     "execution_count": 110,
     "metadata": {},
     "output_type": "execute_result"
    }
   ],
   "source": [
    "y_proba"
   ]
  },
  {
   "cell_type": "code",
   "execution_count": null,
   "metadata": {
    "collapsed": true
   },
   "outputs": [],
   "source": []
  }
 ],
 "metadata": {
  "kernelspec": {
   "display_name": "rwe",
   "language": "python",
   "name": "rwe"
  },
  "language_info": {
   "codemirror_mode": {
    "name": "ipython",
    "version": 3
   },
   "file_extension": ".py",
   "mimetype": "text/x-python",
   "name": "python",
   "nbconvert_exporter": "python",
   "pygments_lexer": "ipython3",
   "version": "3.6.7"
  }
 },
 "nbformat": 4,
 "nbformat_minor": 2
}
